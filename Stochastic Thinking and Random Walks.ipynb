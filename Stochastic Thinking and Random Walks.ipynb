{
 "cells": [
  {
   "cell_type": "markdown",
   "id": "ff2dde53",
   "metadata": {},
   "source": [
    "## Stochastic Thinking and Random Walks\n",
    "随机思维"
   ]
  },
  {
   "cell_type": "markdown",
   "id": "06ed155b",
   "metadata": {},
   "source": [
    "The world may or may not be inherently unpredicatable  \n",
    "But our lack of knowledge does not allow us to make accurate predictions  \n",
    "Therefore we might as well threat the world as inherently unpredictable  \n",
    "**Predictive nondeterminism**"
   ]
  },
  {
   "cell_type": "markdown",
   "id": "d1cbd97e",
   "metadata": {},
   "source": [
    "### Implementing a Randomo Process"
   ]
  },
  {
   "cell_type": "code",
   "execution_count": 1,
   "id": "1b4951ad",
   "metadata": {},
   "outputs": [
    {
     "name": "stdout",
     "output_type": "stream",
     "text": [
      "4551526651\n"
     ]
    }
   ],
   "source": [
    "import random \n",
    "\n",
    "def rollDie():\n",
    "    '''returns a random int between 1 and 6'''\n",
    "    return random.choice([1,2,3,4,5,6])\n",
    "\n",
    "def testRoll(n=10):\n",
    "    result = ''\n",
    "    for i in range(n):\n",
    "        result = result + str(rollDie())\n",
    "    print(result)\n",
    "\n",
    "testRoll()"
   ]
  },
  {
   "cell_type": "markdown",
   "id": "01590ce5",
   "metadata": {},
   "source": [
    "### A Simulation of Die Rolling"
   ]
  },
  {
   "cell_type": "code",
   "execution_count": 5,
   "id": "4c2315e1",
   "metadata": {},
   "outputs": [
    {
     "name": "stdout",
     "output_type": "stream",
     "text": [
      "Actual probability of 11111 = 0.0001286\n",
      "Estimated Probability of 11111 = 0.000112\n"
     ]
    }
   ],
   "source": [
    "def runSim(goal, numTrials, txt):\n",
    "    total = 0\n",
    "    for i in range(numTrials):\n",
    "        result = ''\n",
    "        for j in range(len(goal)):\n",
    "            result += str(rollDie())\n",
    "        if result == goal:\n",
    "            total += 1\n",
    "    print('Actual probability of',txt,'=',round(1/(6**len(goal)),8))\n",
    "    estProbability = round(total/numTrials,8)\n",
    "    print('Estimated Probability of',txt,'=',round(estProbability,8))\n",
    "    \n",
    "runSim('11111',1000000,'11111')"
   ]
  },
  {
   "cell_type": "markdown",
   "id": "84bcbdbb",
   "metadata": {},
   "source": [
    "### Approximating Using a Simulation"
   ]
  },
  {
   "cell_type": "code",
   "execution_count": 9,
   "id": "50f56183",
   "metadata": {},
   "outputs": [],
   "source": [
    "def sameDate(numPeople, numSame):\n",
    "    possibleDates = range(366)\n",
    "    birthdays = [0]*366\n",
    "    for p in range(numPeople):\n",
    "        birthDate = random.choice(possibleDates)\n",
    "        birthdays[birthDate] += 1\n",
    "    return max(birthdays) >= numSame"
   ]
  },
  {
   "cell_type": "code",
   "execution_count": 10,
   "id": "2c82e17c",
   "metadata": {},
   "outputs": [
    {
     "name": "stdout",
     "output_type": "stream",
     "text": [
      "For 10 est. prob. of a shared birthday is 0.116\n",
      "Actual prob. for N = 100 = 0.1166454118039999\n",
      "For 20 est. prob. of a shared birthday is 0.41\n",
      "Actual prob. for N = 100 = 0.4105696370550831\n",
      "For 40 est. prob. of a shared birthday is 0.895\n",
      "Actual prob. for N = 100 = 0.89054476188945\n",
      "For 100 est. prob. of a shared birthday is 1.0\n",
      "Actual prob. for N = 100 = 0.9999996784357714\n"
     ]
    }
   ],
   "source": [
    "def birthdayProb(numPeople, numSame, numTrials):\n",
    "    numHits = 0\n",
    "    for t in range(numTrials):\n",
    "        if sameDate(numPeople, numSame):\n",
    "            numHits += 1\n",
    "    return numHits/numTrials\n",
    "\n",
    "import math\n",
    "\n",
    "for numPeople in [10, 20, 40, 100]:\n",
    "    print('For', numPeople,\n",
    "          'est. prob. of a shared birthday is',\n",
    "          birthdayProb(numPeople, 2, 10000))\n",
    "    numerator = math.factorial(366)\n",
    "    denom = (366**numPeople)*math.factorial(366-numPeople)\n",
    "    print('Actual prob. for N = 100 =',\n",
    "          1 - numerator/denom)"
   ]
  },
  {
   "cell_type": "markdown",
   "id": "9e956921",
   "metadata": {},
   "source": [
    "### But All Dates Are Not Equally Likely"
   ]
  },
  {
   "cell_type": "markdown",
   "id": "4d18d84d",
   "metadata": {},
   "source": [
    "![birthdaydate](./img/BirthdayDate.png)"
   ]
  },
  {
   "cell_type": "markdown",
   "id": "52009583",
   "metadata": {},
   "source": [
    "## Random Walks"
   ]
  },
  {
   "cell_type": "markdown",
   "id": "374b946d",
   "metadata": {},
   "source": [
    "#### Random walks are important in many domains\n",
    "Understanding the stock market(maybe)  \n",
    "Modeling diffusion processes  \n",
    "Etc.\n",
    "#### Good illustration of how to use simulation to understand things"
   ]
  },
  {
   "cell_type": "code",
   "execution_count": null,
   "id": "4a22de62",
   "metadata": {},
   "outputs": [],
   "source": []
  }
 ],
 "metadata": {
  "kernelspec": {
   "display_name": "Python 3 (ipykernel)",
   "language": "python",
   "name": "python3"
  },
  "language_info": {
   "codemirror_mode": {
    "name": "ipython",
    "version": 3
   },
   "file_extension": ".py",
   "mimetype": "text/x-python",
   "name": "python",
   "nbconvert_exporter": "python",
   "pygments_lexer": "ipython3",
   "version": "3.8.10"
  }
 },
 "nbformat": 4,
 "nbformat_minor": 5
}
