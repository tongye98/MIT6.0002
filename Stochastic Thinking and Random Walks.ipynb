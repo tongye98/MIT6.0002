{
 "cells": [
  {
   "cell_type": "markdown",
   "id": "df9459b6",
   "metadata": {},
   "source": [
    "## Stochastic Thinking and Random Walks\n",
    "随机思维"
   ]
  },
  {
   "cell_type": "markdown",
   "id": "f7d4982e",
   "metadata": {},
   "source": [
    "The world may or may not be inherently unpredicatable  \n",
    "But our lack of knowledge does not allow us to make accurate predictions  \n",
    "Therefore we might as well threat the world as inherently unpredictable  \n",
    "**Predictive nondeterminism**"
   ]
  },
  {
   "cell_type": "markdown",
   "id": "8c86e8f9",
   "metadata": {},
   "source": [
    "### Implementing a Randomo Process"
   ]
  },
  {
   "cell_type": "code",
   "execution_count": 1,
   "id": "5eaa3125",
   "metadata": {},
   "outputs": [
    {
     "name": "stdout",
     "output_type": "stream",
     "text": [
      "4551526651\n"
     ]
    }
   ],
   "source": [
    "import random \n",
    "\n",
    "def rollDie():\n",
    "    '''returns a random int between 1 and 6'''\n",
    "    return random.choice([1,2,3,4,5,6])\n",
    "\n",
    "def testRoll(n=10):\n",
    "    result = ''\n",
    "    for i in range(n):\n",
    "        result = result + str(rollDie())\n",
    "    print(result)\n",
    "\n",
    "testRoll()"
   ]
  },
  {
   "cell_type": "markdown",
   "id": "0941308d",
   "metadata": {},
   "source": [
    "### A Simulation of Die Rolling"
   ]
  },
  {
   "cell_type": "code",
   "execution_count": 5,
   "id": "dc7b74d4",
   "metadata": {},
   "outputs": [
    {
     "name": "stdout",
     "output_type": "stream",
     "text": [
      "Actual probability of 11111 = 0.0001286\n",
      "Estimated Probability of 11111 = 0.000112\n"
     ]
    }
   ],
   "source": [
    "def runSim(goal, numTrials, txt):\n",
    "    total = 0\n",
    "    for i in range(numTrials):\n",
    "        result = ''\n",
    "        for j in range(len(goal)):\n",
    "            result += str(rollDie())\n",
    "        if result == goal:\n",
    "            total += 1\n",
    "    print('Actual probability of',txt,'=',round(1/(6**len(goal)),8))\n",
    "    estProbability = round(total/numTrials,8)\n",
    "    print('Estimated Probability of',txt,'=',round(estProbability,8))\n",
    "    \n",
    "runSim('11111',1000000,'11111')"
   ]
  },
  {
   "cell_type": "markdown",
   "id": "349ac96b",
   "metadata": {},
   "source": [
    "### Approximating Using a Simulation"
   ]
  },
  {
   "cell_type": "code",
   "execution_count": 9,
   "id": "138bd98e",
   "metadata": {},
   "outputs": [],
   "source": [
    "def sameDate(numPeople, numSame):\n",
    "    possibleDates = range(366)\n",
    "    birthdays = [0]*366\n",
    "    for p in range(numPeople):\n",
    "        birthDate = random.choice(possibleDates)\n",
    "        birthdays[birthDate] += 1\n",
    "    return max(birthdays) >= numSame"
   ]
  },
  {
   "cell_type": "code",
   "execution_count": 10,
   "id": "56f7e0bd",
   "metadata": {},
   "outputs": [
    {
     "name": "stdout",
     "output_type": "stream",
     "text": [
      "For 10 est. prob. of a shared birthday is 0.116\n",
      "Actual prob. for N = 100 = 0.1166454118039999\n",
      "For 20 est. prob. of a shared birthday is 0.41\n",
      "Actual prob. for N = 100 = 0.4105696370550831\n",
      "For 40 est. prob. of a shared birthday is 0.895\n",
      "Actual prob. for N = 100 = 0.89054476188945\n",
      "For 100 est. prob. of a shared birthday is 1.0\n",
      "Actual prob. for N = 100 = 0.9999996784357714\n"
     ]
    }
   ],
   "source": [
    "def birthdayProb(numPeople, numSame, numTrials):\n",
    "    numHits = 0\n",
    "    for t in range(numTrials):\n",
    "        if sameDate(numPeople, numSame):\n",
    "            numHits += 1\n",
    "    return numHits/numTrials\n",
    "\n",
    "import math\n",
    "\n",
    "for numPeople in [10, 20, 40, 100]:\n",
    "    print('For', numPeople,\n",
    "          'est. prob. of a shared birthday is',\n",
    "          birthdayProb(numPeople, 2, 10000))\n",
    "    numerator = math.factorial(366)\n",
    "    denom = (366**numPeople)*math.factorial(366-numPeople)\n",
    "    print('Actual prob. for N = 100 =',\n",
    "          1 - numerator/denom)"
   ]
  },
  {
   "cell_type": "markdown",
   "id": "fed559d8",
   "metadata": {},
   "source": [
    "### But All Dates Are Not Equally Likely"
   ]
  },
  {
   "cell_type": "markdown",
   "id": "2084ada8",
   "metadata": {},
   "source": [
    "![birthdaydate](./img/BirthdayDate.png)"
   ]
  },
  {
   "cell_type": "markdown",
   "id": "3f2e8edb",
   "metadata": {},
   "source": [
    "## Random Walks"
   ]
  },
  {
   "cell_type": "markdown",
   "id": "fe35360a",
   "metadata": {},
   "source": [
    "#### Random walks are important in many domains\n",
    "Understanding the stock market(maybe)  \n",
    "Modeling diffusion processes  \n",
    "Etc.\n",
    "#### Good illustration of how to use simulation to understand things"
   ]
  },
  {
   "cell_type": "markdown",
   "id": "95f7f85c",
   "metadata": {},
   "source": [
    "## Structure of Simulation\n",
    "### 1.Simulate one walks of k steps\n",
    "### 2.Simulate n such walks\n",
    "### 3.Report average distance from origin"
   ]
  },
  {
   "cell_type": "markdown",
   "id": "f0adefb9",
   "metadata": {},
   "source": [
    "Location: a place  \n",
    "Field: a collection of places and drunks  \n",
    "Drunk: somebody who wanders from place to place in a field"
   ]
  },
  {
   "cell_type": "code",
   "execution_count": 11,
   "id": "f85189e6",
   "metadata": {},
   "outputs": [],
   "source": [
    "class Location(object):\n",
    "    def __init__(self, x, y):\n",
    "        '''x and y are floats'''\n",
    "        self.x = x\n",
    "        self.y = y\n",
    "    \n",
    "    def move(self, deltax, deltay):\n",
    "        '''deltax and dletay are floats'''\n",
    "        return Location(self.x+deltax, self.y+deltay)\n",
    "    \n",
    "    def getX(self):\n",
    "        return self.x\n",
    "    \n",
    "    def getY(self):\n",
    "        return self.y\n",
    "    \n",
    "    def distFrom(self, other):\n",
    "        xDist = self.x - other.getX()\n",
    "        yDist = self.y - other.getY()\n",
    "        return (xDist**2 + yDist**2)**0.5\n",
    "    \n",
    "    def __str__(self):\n",
    "        return '<' + str(self.x) + ',' + str(self.y) + '>'"
   ]
  },
  {
   "cell_type": "code",
   "execution_count": 13,
   "id": "f8231422",
   "metadata": {},
   "outputs": [],
   "source": [
    "class Drunk(object):\n",
    "    def __init__(self, name=None):\n",
    "        '''Assume name is str'''\n",
    "        self.name = name\n",
    "    \n",
    "    def __str__(self):\n",
    "        if self != None:\n",
    "            return self.name\n",
    "        return 'Anonymous'"
   ]
  },
  {
   "cell_type": "code",
   "execution_count": 14,
   "id": "8e0d6a26",
   "metadata": {},
   "outputs": [],
   "source": [
    "import random\n",
    "\n",
    "class UsualDrunk(Drunk):\n",
    "    def takeStep(self):\n",
    "        stepChoices = [(0,1),(0,-1),(1,0),(-1,0)]\n",
    "        return random.choice(stepChoices)\n",
    "    \n",
    "class MasochistDrunk(Drunk):\n",
    "    def takeStep(self):\n",
    "        stepChoices = [(0.0,1.1),(0.0,-0.9),(1.0,0.0),(-1.0,0.0)]\n",
    "        return random.choice(stepChoices)"
   ]
  },
  {
   "cell_type": "code",
   "execution_count": 15,
   "id": "55fa1075",
   "metadata": {},
   "outputs": [],
   "source": [
    "class Field(object):\n",
    "    def __init__(self):\n",
    "        self.drunks = {}\n",
    "    \n",
    "    def addDrunks(self, drunk, loc):\n",
    "        if drunk in self.drunks:\n",
    "            raise ValueError('Duplicate drunk')\n",
    "        else:\n",
    "            self.drunks[drunk] = loc\n",
    "    \n",
    "    def getLoc(self,drunk):\n",
    "        if drunk not in self.drunks:\n",
    "            raise ValueError('Drunk not in field')\n",
    "        return self.drunks[drunk]\n",
    "    \n",
    "    def moveDrunk(self, drunk):\n",
    "        if drunk not in self.drunks:\n",
    "            raise ValueError('Drunk not in field')\n",
    "        xDist, yDist = drunk.takeStep()\n",
    "        # use move method of location to get new location\n",
    "        self.drunks[drunk] = self.drunks[drunk].move(xDist,yDist)"
   ]
  },
  {
   "cell_type": "markdown",
   "id": "8459eb02",
   "metadata": {},
   "source": [
    "## Simulating a Single Walk"
   ]
  },
  {
   "cell_type": "code",
   "execution_count": 16,
   "id": "2b6604c5",
   "metadata": {},
   "outputs": [],
   "source": [
    "def walk(f,d,numSteps):\n",
    "    '''Assume: f a Field, d a Drunk in f, and numSteps an int >= 0.\n",
    "       Moves d numSteps times; returns the distance between the final\n",
    "       location and the location at the start of the walk.'''\n",
    "    start = f.getLoc(d)\n",
    "    for s in range(numSteps):\n",
    "        f.moveDrunk(d)\n",
    "    return start.distFrom(f.getLoc(d))"
   ]
  },
  {
   "cell_type": "markdown",
   "id": "ad0e085d",
   "metadata": {},
   "source": [
    "## Simulating Multiple Walks"
   ]
  },
  {
   "cell_type": "code",
   "execution_count": 31,
   "id": "ce488d42",
   "metadata": {},
   "outputs": [],
   "source": [
    "def simWalks(numSteps, numTrials, dClass):\n",
    "    '''Assumes numSteps an int >= 0, numTrials an int > 0, dClass a \n",
    "       subclass of Drunk Simulates numTrials walks fo numSteps steps\n",
    "       each. Returns a list of the final distances for each trial.'''\n",
    "    Homer = dClass('Homer')\n",
    "    origin = Location(0,0)\n",
    "    distances = []\n",
    "    for t in range(numTrials):\n",
    "        f = Field()\n",
    "        f.addDrunks(Homer,origin)\n",
    "        distances.append(round(walk(f,Homer,numSteps),1))\n",
    "        \n",
    "    return distances"
   ]
  },
  {
   "cell_type": "code",
   "execution_count": 32,
   "id": "646b7439",
   "metadata": {},
   "outputs": [],
   "source": [
    "def drunkTest(walkLengths, numTrials, dClass):\n",
    "    '''Assumes walkLengths a sequence of ints >= 0\n",
    "       numTrials an int > 0, dClass a subclass of Drunk.\n",
    "       For each number of steps in walkLenghts, runs simWalks with\n",
    "       numTriasls walk and prints results'''\n",
    "    for numSteps in walkLengths:\n",
    "        distances = simWalks(numSteps, numTrials, dClass)\n",
    "        print(dClass.__name__,'random walk of',numSteps,'steps')\n",
    "        print(' Mean =', round(sum(distances)/len(distances),4))\n",
    "        print(' Max =', max(distances),'Min =',min(distances))"
   ]
  },
  {
   "cell_type": "markdown",
   "id": "2e06eca7",
   "metadata": {},
   "source": [
    "### Sanity Check"
   ]
  },
  {
   "cell_type": "code",
   "execution_count": 34,
   "id": "8c9f798b",
   "metadata": {},
   "outputs": [
    {
     "name": "stdout",
     "output_type": "stream",
     "text": [
      "UsualDrunk random walk of 0 steps\n",
      " Mean = 0.0\n",
      " Max = 0.0 Min = 0.0\n",
      "UsualDrunk random walk of 1 steps\n",
      " Mean = 1.0\n",
      " Max = 1.0 Min = 1.0\n",
      "UsualDrunk random walk of 2 steps\n",
      " Mean = 1.232\n",
      " Max = 2.0 Min = 0.0\n"
     ]
    }
   ],
   "source": [
    "drunkTest((0,1,2), 100, UsualDrunk)"
   ]
  },
  {
   "cell_type": "code",
   "execution_count": 33,
   "id": "4e61e217",
   "metadata": {
    "scrolled": true
   },
   "outputs": [
    {
     "name": "stdout",
     "output_type": "stream",
     "text": [
      "UsualDrunk random walk of 10 steps\n",
      " Mean = 2.751\n",
      " Max = 6.3 Min = 0.0\n",
      "UsualDrunk random walk of 100 steps\n",
      " Mean = 8.342\n",
      " Max = 22.1 Min = 1.4\n",
      "UsualDrunk random walk of 1000 steps\n",
      " Mean = 27.576\n",
      " Max = 77.9 Min = 4.0\n",
      "UsualDrunk random walk of 10000 steps\n",
      " Mean = 88.393\n",
      " Max = 208.2 Min = 6.0\n"
     ]
    }
   ],
   "source": [
    "drunkTest((10,100,1000,10000),100,UsualDrunk)"
   ]
  },
  {
   "cell_type": "code",
   "execution_count": 36,
   "id": "45b95041",
   "metadata": {},
   "outputs": [
    {
     "name": "stdout",
     "output_type": "stream",
     "text": [
      "UsualDrunk random walk of 1000 steps\n",
      " Mean = 27.242\n",
      " Max = 74.1 Min = 4.2\n",
      "UsualDrunk random walk of 10000 steps\n",
      " Mean = 87.762\n",
      " Max = 232.2 Min = 3.2\n",
      "MasochistDrunk random walk of 1000 steps\n",
      " Mean = 58.01\n",
      " Max = 117.7 Min = 14.2\n",
      "MasochistDrunk random walk of 10000 steps\n",
      " Mean = 501.878\n",
      " Max = 693.6 Min = 343.9\n"
     ]
    }
   ],
   "source": [
    "def simAll(drunkKinds, walkLengths, numTrials):\n",
    "    for dClass in drunkKinds:\n",
    "        drunkTest(walkLengths, numTrials, dClass)\n",
    "\n",
    "simAll((UsualDrunk, MasochistDrunk), (1000, 10000), 100)"
   ]
  },
  {
   "cell_type": "code",
   "execution_count": null,
   "id": "c61e428f",
   "metadata": {},
   "outputs": [],
   "source": []
  }
 ],
 "metadata": {
  "kernelspec": {
   "display_name": "Python 3 (ipykernel)",
   "language": "python",
   "name": "python3"
  },
  "language_info": {
   "codemirror_mode": {
    "name": "ipython",
    "version": 3
   },
   "file_extension": ".py",
   "mimetype": "text/x-python",
   "name": "python",
   "nbconvert_exporter": "python",
   "pygments_lexer": "ipython3",
   "version": "3.8.10"
  }
 },
 "nbformat": 4,
 "nbformat_minor": 5
}
