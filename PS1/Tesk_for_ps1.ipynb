{
 "cells": [
  {
   "cell_type": "code",
   "execution_count": 1,
   "id": "48365df2",
   "metadata": {},
   "outputs": [],
   "source": [
    "import time"
   ]
  },
  {
   "cell_type": "code",
   "execution_count": 31,
   "id": "d832ce5d",
   "metadata": {},
   "outputs": [
    {
     "data": {
      "text/plain": [
       "{'Maggie': '3',\n",
       " 'Herman': '7',\n",
       " 'Betsy': '9',\n",
       " 'Oreo': '6',\n",
       " 'Moo Moo': '3',\n",
       " 'Milkshake': '2',\n",
       " 'Millie': '5',\n",
       " 'Lola': '2',\n",
       " 'Florence': '2',\n",
       " 'Henrietta': '9'}"
      ]
     },
     "execution_count": 31,
     "metadata": {},
     "output_type": "execute_result"
    }
   ],
   "source": [
    "def load_cows(filename):\n",
    "    cow_pair = dict()\n",
    "    file = open(filename)\n",
    "    lines = file.read().splitlines()\n",
    "    for line in lines:\n",
    "        line_list = line.split(',')\n",
    "        cow_pair[line_list[0]] = line_list[1]\n",
    "        \n",
    "    return cow_pair\n",
    "        \n",
    "\n",
    "cows = load_cows(\"ps1_cow_data.txt\")\n",
    "cows"
   ]
  },
  {
   "cell_type": "code",
   "execution_count": 33,
   "id": "a16895e5",
   "metadata": {},
   "outputs": [
    {
     "name": "stdout",
     "output_type": "stream",
     "text": [
      "[['Betsy'], ['Henrietta'], ['Herman', 'Maggie'], ['Oreo', 'Moo Moo'], ['Millie', 'Milkshake', 'Lola'], ['Florence']]\n"
     ]
    }
   ],
   "source": [
    "def greedy_cow_transport(cows,limit=10):\n",
    "    keyFunction = lambda x: cows[x]\n",
    "    cows_sorted = sorted(cows,key=keyFunction,reverse=True)\n",
    "    result = []\n",
    "    while len(cows_sorted) > 0:\n",
    "        new_trip = []\n",
    "        trip_weight = 0\n",
    "        for i in range(len(cows_sorted)):\n",
    "            if (trip_weight + int(cows[cows_sorted[i]])) <= limit:\n",
    "                trip_weight += int(cows[cows_sorted[i]])\n",
    "                new_trip.append(cows_sorted[i])\n",
    "        result.append(new_trip)\n",
    "        for item in new_trip:\n",
    "            cows_sorted.remove(item)\n",
    "            \n",
    "    return result\n",
    "\n",
    "print(greedy_cow_transport(cows))"
   ]
  },
  {
   "cell_type": "code",
   "execution_count": 35,
   "id": "ea8f88f8",
   "metadata": {},
   "outputs": [
    {
     "name": "stdout",
     "output_type": "stream",
     "text": [
      "[[1, 2, 3, 4]]\n",
      "[[2, 3, 4], [1]]\n",
      "[[1, 3, 4], [2]]\n",
      "[[3, 4], [1, 2]]\n",
      "[[3, 4], [2], [1]]\n",
      "[[1, 2, 4], [3]]\n",
      "[[2, 4], [1, 3]]\n",
      "[[2, 4], [3], [1]]\n",
      "[[1, 4], [2, 3]]\n",
      "[[1, 4], [3], [2]]\n",
      "[[4], [1, 2, 3]]\n",
      "[[4], [2, 3], [1]]\n",
      "[[4], [1, 3], [2]]\n",
      "[[4], [3], [1, 2]]\n",
      "[[4], [3], [2], [1]]\n"
     ]
    }
   ],
   "source": [
    "from ps1_partition import get_partitions\n",
    "for partition in get_partitions([1,2,3,4]):\n",
    "    print(partition)"
   ]
  },
  {
   "cell_type": "code",
   "execution_count": 37,
   "id": "e803de4c",
   "metadata": {},
   "outputs": [
    {
     "name": "stdout",
     "output_type": "stream",
     "text": [
      "[['Florence', 'Oreo', 'Lola'], ['Maggie', 'Herman'], ['Betsy'], ['Milkshake', 'Millie', 'Moo Moo'], ['Henrietta']]\n"
     ]
    }
   ],
   "source": [
    "def trip_weight(item,cows):\n",
    "    weight = 0\n",
    "    for i in item:\n",
    "        weight += int(cows[i])\n",
    "    return weight\n",
    "\n",
    "# Problem 3\n",
    "def brute_force_cow_transport(cows,limit=10):\n",
    "    keyFunction = lambda x: cows[x]\n",
    "    cows_sorted = sorted(cows,key=keyFunction,reverse=True)\n",
    "    minimize = len(cows_sorted)\n",
    "    result = []\n",
    "    for partition in get_partitions(cows_sorted):\n",
    "        legal = True\n",
    "        length = len(partition)\n",
    "        for item in partition:\n",
    "            if trip_weight(item,cows) > limit:\n",
    "                legal = False\n",
    "                break\n",
    "        if legal:\n",
    "            if length < minimize:\n",
    "                minimize = length\n",
    "                result = partition\n",
    "    \n",
    "    return result\n",
    "print(brute_force_cow_transport(cows))"
   ]
  },
  {
   "cell_type": "code",
   "execution_count": 38,
   "id": "3946a977",
   "metadata": {},
   "outputs": [
    {
     "data": {
      "text/plain": [
       "{'Maggie': '3',\n",
       " 'Herman': '7',\n",
       " 'Betsy': '9',\n",
       " 'Oreo': '6',\n",
       " 'Moo Moo': '3',\n",
       " 'Milkshake': '2',\n",
       " 'Millie': '5',\n",
       " 'Lola': '2',\n",
       " 'Florence': '2',\n",
       " 'Henrietta': '9'}"
      ]
     },
     "execution_count": 38,
     "metadata": {},
     "output_type": "execute_result"
    }
   ],
   "source": [
    "cows"
   ]
  },
  {
   "cell_type": "code",
   "execution_count": 43,
   "id": "f6712776",
   "metadata": {},
   "outputs": [],
   "source": [
    "def compare_cow_transport_algorithms():\n",
    "    \"\"\"\n",
    "    Using the data from ps1_cow_data.txt and the specified weight limit, run your\n",
    "    greedy_cow_transport and brute_force_cow_transport functions here. Use the\n",
    "    default weight limits of 10 for both greedy_cow_transport and\n",
    "    brute_force_cow_transport.\n",
    "    \n",
    "    Print out the number of trips returned by each method, and how long each\n",
    "    method takes to run in seconds.\n",
    "\n",
    "    Returns:\n",
    "    Does not return anything.\n",
    "    \"\"\"\n",
    "    # TODO: Your code here\n",
    "    filename = \"ps1_cow_data.txt\"\n",
    "    cows = load_cows(filename)\n",
    "    \n",
    "    start = time.time()\n",
    "    result_greedy = greedy_cow_transport(cows)\n",
    "    end = time.time()\n",
    "    print(\"greedy algorithm spend:\",(end-start))\n",
    "    print(result_greedy)\n",
    "    \n",
    "    start = time.time()\n",
    "    result_brute_force = brute_force_cow_transport(cows)\n",
    "    end = time.time()\n",
    "    print(\"\\nbrute force algorithm spend:\",(end-start))\n",
    "    print(result_brute_force)\n"
   ]
  },
  {
   "cell_type": "code",
   "execution_count": 44,
   "id": "802a63e0",
   "metadata": {},
   "outputs": [
    {
     "name": "stdout",
     "output_type": "stream",
     "text": [
      "greedy algorithm spend: 3.337860107421875e-05\n",
      "[['Betsy'], ['Henrietta'], ['Herman', 'Maggie'], ['Oreo', 'Moo Moo'], ['Millie', 'Milkshake', 'Lola'], ['Florence']]\n",
      "\n",
      "brute force algorithm spend: 0.6088871955871582\n",
      "[['Florence', 'Oreo', 'Lola'], ['Maggie', 'Herman'], ['Betsy'], ['Milkshake', 'Millie', 'Moo Moo'], ['Henrietta']]\n"
     ]
    }
   ],
   "source": [
    "compare_cow_transport_algorithms()"
   ]
  },
  {
   "cell_type": "code",
   "execution_count": null,
   "id": "c57de05d",
   "metadata": {},
   "outputs": [],
   "source": []
  }
 ],
 "metadata": {
  "kernelspec": {
   "display_name": "Python 3 (ipykernel)",
   "language": "python",
   "name": "python3"
  },
  "language_info": {
   "codemirror_mode": {
    "name": "ipython",
    "version": 3
   },
   "file_extension": ".py",
   "mimetype": "text/x-python",
   "name": "python",
   "nbconvert_exporter": "python",
   "pygments_lexer": "ipython3",
   "version": "3.8.10"
  }
 },
 "nbformat": 4,
 "nbformat_minor": 5
}
