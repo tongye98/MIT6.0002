{
 "cells": [
  {
   "cell_type": "code",
   "execution_count": 1,
   "id": "1ea2acc6",
   "metadata": {},
   "outputs": [],
   "source": [
    "import time"
   ]
  },
  {
   "cell_type": "code",
   "execution_count": 31,
   "id": "94d28934",
   "metadata": {},
   "outputs": [
    {
     "data": {
      "text/plain": [
       "{'Maggie': '3',\n",
       " 'Herman': '7',\n",
       " 'Betsy': '9',\n",
       " 'Oreo': '6',\n",
       " 'Moo Moo': '3',\n",
       " 'Milkshake': '2',\n",
       " 'Millie': '5',\n",
       " 'Lola': '2',\n",
       " 'Florence': '2',\n",
       " 'Henrietta': '9'}"
      ]
     },
     "execution_count": 31,
     "metadata": {},
     "output_type": "execute_result"
    }
   ],
   "source": [
    "def load_cows(filename):\n",
    "    cow_pair = dict()\n",
    "    file = open(filename)\n",
    "    lines = file.read().splitlines()\n",
    "    for line in lines:\n",
    "        line_list = line.split(',')\n",
    "        cow_pair[line_list[0]] = line_list[1]\n",
    "        \n",
    "    return cow_pair\n",
    "        \n",
    "\n",
    "cows = load_cows(\"ps1_cow_data.txt\")\n",
    "cows"
   ]
  },
  {
   "cell_type": "code",
   "execution_count": 33,
   "id": "be67abf1",
   "metadata": {},
   "outputs": [
    {
     "name": "stdout",
     "output_type": "stream",
     "text": [
      "[['Betsy'], ['Henrietta'], ['Herman', 'Maggie'], ['Oreo', 'Moo Moo'], ['Millie', 'Milkshake', 'Lola'], ['Florence']]\n"
     ]
    }
   ],
   "source": [
    "def greedy_cow_transport(cows,limit=10):\n",
    "    keyFunction = lambda x: cows[x]\n",
    "    cows_sorted = sorted(cows,key=keyFunction,reverse=True)\n",
    "    result = []\n",
    "    while len(cows_sorted) > 0:\n",
    "        new_trip = []\n",
    "        trip_weight = 0\n",
    "        for i in range(len(cows_sorted)):\n",
    "            if (trip_weight + int(cows[cows_sorted[i]])) <= limit:\n",
    "                trip_weight += int(cows[cows_sorted[i]])\n",
    "                new_trip.append(cows_sorted[i])\n",
    "        result.append(new_trip)\n",
    "        for item in new_trip:\n",
    "            cows_sorted.remove(item)\n",
    "            \n",
    "    return result\n",
    "\n",
    "print(greedy_cow_transport(cows))"
   ]
  },
  {
   "cell_type": "code",
   "execution_count": 35,
   "id": "288c6667",
   "metadata": {},
   "outputs": [
    {
     "name": "stdout",
     "output_type": "stream",
     "text": [
      "[[1, 2, 3, 4]]\n",
      "[[2, 3, 4], [1]]\n",
      "[[1, 3, 4], [2]]\n",
      "[[3, 4], [1, 2]]\n",
      "[[3, 4], [2], [1]]\n",
      "[[1, 2, 4], [3]]\n",
      "[[2, 4], [1, 3]]\n",
      "[[2, 4], [3], [1]]\n",
      "[[1, 4], [2, 3]]\n",
      "[[1, 4], [3], [2]]\n",
      "[[4], [1, 2, 3]]\n",
      "[[4], [2, 3], [1]]\n",
      "[[4], [1, 3], [2]]\n",
      "[[4], [3], [1, 2]]\n",
      "[[4], [3], [2], [1]]\n"
     ]
    }
   ],
   "source": [
    "from ps1_partition import get_partitions\n",
    "for partition in get_partitions([1,2,3,4]):\n",
    "    print(partition)"
   ]
  },
  {
   "cell_type": "code",
   "execution_count": 37,
   "id": "5a919b6f",
   "metadata": {},
   "outputs": [
    {
     "name": "stdout",
     "output_type": "stream",
     "text": [
      "[['Florence', 'Oreo', 'Lola'], ['Maggie', 'Herman'], ['Betsy'], ['Milkshake', 'Millie', 'Moo Moo'], ['Henrietta']]\n"
     ]
    }
   ],
   "source": [
    "def trip_weight(item,cows):\n",
    "    weight = 0\n",
    "    for i in item:\n",
    "        weight += int(cows[i])\n",
    "    return weight\n",
    "\n",
    "# Problem 3\n",
    "def brute_force_cow_transport(cows,limit=10):\n",
    "    keyFunction = lambda x: cows[x]\n",
    "    cows_sorted = sorted(cows,key=keyFunction,reverse=True)\n",
    "    minimize = len(cows_sorted)\n",
    "    result = []\n",
    "    for partition in get_partitions(cows_sorted):\n",
    "        legal = True\n",
    "        length = len(partition)\n",
    "        for item in partition:\n",
    "            if trip_weight(item,cows) > limit:\n",
    "                legal = False\n",
    "                break\n",
    "        if legal:\n",
    "            if length < minimize:\n",
    "                minimize = length\n",
    "                result = partition\n",
    "    \n",
    "    return result\n",
    "print(brute_force_cow_transport(cows))"
   ]
  },
  {
   "cell_type": "code",
   "execution_count": 38,
   "id": "e9fb12c8",
   "metadata": {},
   "outputs": [
    {
     "data": {
      "text/plain": [
       "{'Maggie': '3',\n",
       " 'Herman': '7',\n",
       " 'Betsy': '9',\n",
       " 'Oreo': '6',\n",
       " 'Moo Moo': '3',\n",
       " 'Milkshake': '2',\n",
       " 'Millie': '5',\n",
       " 'Lola': '2',\n",
       " 'Florence': '2',\n",
       " 'Henrietta': '9'}"
      ]
     },
     "execution_count": 38,
     "metadata": {},
     "output_type": "execute_result"
    }
   ],
   "source": [
    "cows"
   ]
  },
  {
   "cell_type": "code",
   "execution_count": 43,
   "id": "b16f513f",
   "metadata": {},
   "outputs": [],
   "source": [
    "def compare_cow_transport_algorithms():\n",
    "    \"\"\"\n",
    "    Using the data from ps1_cow_data.txt and the specified weight limit, run your\n",
    "    greedy_cow_transport and brute_force_cow_transport functions here. Use the\n",
    "    default weight limits of 10 for both greedy_cow_transport and\n",
    "    brute_force_cow_transport.\n",
    "    \n",
    "    Print out the number of trips returned by each method, and how long each\n",
    "    method takes to run in seconds.\n",
    "\n",
    "    Returns:\n",
    "    Does not return anything.\n",
    "    \"\"\"\n",
    "    # TODO: Your code here\n",
    "    filename = \"ps1_cow_data.txt\"\n",
    "    cows = load_cows(filename)\n",
    "    \n",
    "    start = time.time()\n",
    "    result_greedy = greedy_cow_transport(cows)\n",
    "    end = time.time()\n",
    "    print(\"greedy algorithm spend:\",(end-start))\n",
    "    print(result_greedy)\n",
    "    \n",
    "    start = time.time()\n",
    "    result_brute_force = brute_force_cow_transport(cows)\n",
    "    end = time.time()\n",
    "    print(\"\\nbrute force algorithm spend:\",(end-start))\n",
    "    print(result_brute_force)\n"
   ]
  },
  {
   "cell_type": "code",
   "execution_count": 44,
   "id": "e478063e",
   "metadata": {},
   "outputs": [
    {
     "name": "stdout",
     "output_type": "stream",
     "text": [
      "greedy algorithm spend: 3.337860107421875e-05\n",
      "[['Betsy'], ['Henrietta'], ['Herman', 'Maggie'], ['Oreo', 'Moo Moo'], ['Millie', 'Milkshake', 'Lola'], ['Florence']]\n",
      "\n",
      "brute force algorithm spend: 0.6088871955871582\n",
      "[['Florence', 'Oreo', 'Lola'], ['Maggie', 'Herman'], ['Betsy'], ['Milkshake', 'Millie', 'Moo Moo'], ['Henrietta']]\n"
     ]
    }
   ],
   "source": [
    "compare_cow_transport_algorithms()"
   ]
  },
  {
   "cell_type": "code",
   "execution_count": 45,
   "id": "fada4fbe",
   "metadata": {},
   "outputs": [
    {
     "name": "stdout",
     "output_type": "stream",
     "text": [
      "1\n",
      "2\n"
     ]
    }
   ],
   "source": [
    "test = dict()\n",
    "test[1] = 'a'\n",
    "test[2] = 'b'\n",
    "for item in test:\n",
    "    print(item)"
   ]
  },
  {
   "cell_type": "code",
   "execution_count": 49,
   "id": "33342efe",
   "metadata": {},
   "outputs": [
    {
     "name": "stdout",
     "output_type": "stream",
     "text": [
      "(1, 2)\n"
     ]
    },
    {
     "data": {
      "text/plain": [
       "3"
      ]
     },
     "execution_count": 49,
     "metadata": {},
     "output_type": "execute_result"
    }
   ],
   "source": [
    "testtuple = (1,2,3)\n",
    "b = testtuple[:-1]\n",
    "print(b)\n",
    "testtuple[-1]"
   ]
  },
  {
   "cell_type": "code",
   "execution_count": 66,
   "id": "41f4ee85",
   "metadata": {},
   "outputs": [
    {
     "name": "stdout",
     "output_type": "stream",
     "text": [
      "Egg weights = (1, 5, 10, 25)\n",
      "n = 99\n",
      "Expected ouput: 9 (3 * 25 + 2 * 10 + 4 * 1 = 99)\n",
      "Actual output: 99\n",
      "\n"
     ]
    }
   ],
   "source": [
    "###########################\n",
    "# 6.0002 Problem Set 1b: Space Change\n",
    "# Name:\n",
    "# Collaborators:\n",
    "# Time:\n",
    "# Author: charz, cdenise\n",
    "\n",
    "#================================\n",
    "# Part B: Golden Eggs\n",
    "#================================\n",
    "\n",
    "# Problem 1\n",
    "def dp_make_weight(egg_weights, target_weight, memo = {}):\n",
    "    \"\"\"\n",
    "    Find number of eggs to bring back, using the smallest number of eggs. Assumes there is\n",
    "    an infinite supply of eggs of each weight, and there is always a egg of value 1.\n",
    "    \n",
    "    Parameters:\n",
    "    egg_weights - tuple of integers, available egg weights sorted from smallest to largest value (1 = d1 < d2 < ... < dk)\n",
    "    target_weight - int, amount of weight we want to find eggs to fit\n",
    "    memo - dictionary, OPTIONAL parameter for memoization (you may not need to use this parameter depending on your implementation)\n",
    "    \n",
    "    Returns: int, smallest number of eggs needed to make target weight\n",
    "    \"\"\"\n",
    "    # TODO: Your code here\n",
    "    if target_weight in memo:\n",
    "        return memo[target_weight]\n",
    "    elif target_weight == 0 or len(egg_weights) == 0:\n",
    "        return 0\n",
    "    elif egg_weights[-1] > target_weight:\n",
    "        result = dp_make_weight(egg_weights[:-1],target_weight,memo)\n",
    "    else:\n",
    "        nextItem = egg_weights[-1]\n",
    "        result = dp_make_weight(egg_weights,target_weight-nextItem,memo) + 1\n",
    "    memo[target_weight] = result\n",
    "    return result\n",
    "\n",
    "# EXAMPLE TESTING CODE, feel free to add more if you'd like\n",
    "if __name__ == '__main__':\n",
    "    egg_weights = (1,)\n",
    "    n = 99\n",
    "    print(\"Egg weights = (1, 5, 10, 25)\")\n",
    "    print(\"n = 99\")\n",
    "    print(\"Expected ouput: 9 (3 * 25 + 2 * 10 + 4 * 1 = 99)\")\n",
    "    print(\"Actual output:\", dp_make_weight(egg_weights, n))\n",
    "    print()"
   ]
  }
 ],
 "metadata": {
  "kernelspec": {
   "display_name": "Python 3 (ipykernel)",
   "language": "python",
   "name": "python3"
  },
  "language_info": {
   "codemirror_mode": {
    "name": "ipython",
    "version": 3
   },
   "file_extension": ".py",
   "mimetype": "text/x-python",
   "name": "python",
   "nbconvert_exporter": "python",
   "pygments_lexer": "ipython3",
   "version": "3.8.10"
  }
 },
 "nbformat": 4,
 "nbformat_minor": 5
}
