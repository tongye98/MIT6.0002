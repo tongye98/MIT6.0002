{
 "cells": [
  {
   "cell_type": "markdown",
   "id": "11b8cf22",
   "metadata": {},
   "source": [
    "# Implementing and using graphs\n",
    "\n",
    "## Building graphs\n",
    "1. Nodes\n",
    "2. Edges\n",
    "3. Stitching together to make graphs\n",
    "## Using graphs\n",
    "1. Searching for paths between nodes\n",
    "2. Searching for optimal paths between nodes"
   ]
  },
  {
   "cell_type": "code",
   "execution_count": 1,
   "id": "a776d5a5",
   "metadata": {},
   "outputs": [],
   "source": [
    "class Node(object):\n",
    "    def __init__(self, name):\n",
    "        '''Assume name is a string'''\n",
    "        self.name = name\n",
    "    def getName(self):\n",
    "        return self.name\n",
    "    def __str__(self):\n",
    "        return self.name"
   ]
  },
  {
   "cell_type": "code",
   "execution_count": 2,
   "id": "280d6c93",
   "metadata": {},
   "outputs": [],
   "source": [
    "class Edge(object):\n",
    "    def __init__(self, src, dest):\n",
    "        '''Assumes src and dest are nodes'''\n",
    "        self.src = src\n",
    "        self.dest = dest\n",
    "    def getSource(self):\n",
    "        return self.src\n",
    "    def getDestination(self):\n",
    "        return self.dest\n",
    "    def __str__(self):\n",
    "        return self.src.getName() + \"->\" + self.dest.getName()"
   ]
  },
  {
   "cell_type": "markdown",
   "id": "c71d9b22",
   "metadata": {},
   "source": [
    "## Common Representations of Digarphs\n",
    "### Adjacency matrix\n",
    "    Cell[s,d] = 1 if there is an edge from s to d; = 0 otherwise\n",
    "### Adjacency list\n",
    "    Association with each node a list of destination nodes"
   ]
  },
  {
   "cell_type": "code",
   "execution_count": 5,
   "id": "90a13258",
   "metadata": {},
   "outputs": [],
   "source": [
    "class Digraph(object):\n",
    "    '''edges is a dict mapping each node to a list of its children'''\n",
    "    def __init__(self):\n",
    "        self.edges = {}\n",
    "    \n",
    "    def addNode(self, node):\n",
    "        if node in self.edges:\n",
    "            raise ValueError('Duplication node')\n",
    "        else:\n",
    "            self.edges[node] = []\n",
    "    \n",
    "    def addEdge(self,edge):\n",
    "        src = edge.getSource()\n",
    "        dest = edge.getDestination()\n",
    "        if not(src in self.edges and dest in self.edges):\n",
    "            raise ValueError('Node not in graph')\n",
    "        else:\n",
    "            self.edges[src].append(dest)\n",
    "    \n",
    "    def childrenOf(self, node):\n",
    "        return self.edges[node]\n",
    "    \n",
    "    def hasNode(self, node):\n",
    "        return node in self.edges\n",
    "    \n",
    "    def getNode(self, name):\n",
    "        for n in self.edges:\n",
    "            if n.getName() == name:\n",
    "                return n\n",
    "        raise NameError(name)\n",
    "    \n",
    "    def __str__(self):\n",
    "        result = ''\n",
    "        for src in self.edges:\n",
    "            for dest in self.edges[src]:\n",
    "                result = result + src.getName() + '->' \\\n",
    "                        + dest.getName() + '\\n'\n",
    "        return result[:-1] #omit final newline"
   ]
  },
  {
   "cell_type": "code",
   "execution_count": 4,
   "id": "1605a51a",
   "metadata": {},
   "outputs": [],
   "source": [
    "class Graph(Digraph):\n",
    "    def addEdge(self, edge):\n",
    "        Digraph.addEdge(self, edge)\n",
    "        rev = Edge(edge.getDestination(),edge.getSource())\n",
    "        Digraph.addEdge(self, rev)"
   ]
  },
  {
   "cell_type": "markdown",
   "id": "78bb4d2a",
   "metadata": {},
   "source": [
    "## A Class Graph Optimization Problem\n",
    "### Shortest path from n1 to n2\n",
    "### Shortest weighted path"
   ]
  },
  {
   "cell_type": "code",
   "execution_count": 7,
   "id": "737c64b0",
   "metadata": {},
   "outputs": [],
   "source": [
    "def buildCityGraph(graphType):\n",
    "    g = graphType()\n",
    "    for name in ('Boston', 'Providence', 'New York', 'Chicago',\n",
    "                 'Denver', 'Phoenix', 'Los Angeles'): #Create 7 nodes\n",
    "        g.addNode(Node(name))\n",
    "    g.addEdge(Edge(g.getNode('Boston'), g.getNode('Providence')))\n",
    "    g.addEdge(Edge(g.getNode('Boston'), g.getNode('New York')))\n",
    "    g.addEdge(Edge(g.getNode('Providence'), g.getNode('Boston')))\n",
    "    g.addEdge(Edge(g.getNode('Providence'), g.getNode('New York')))\n",
    "    g.addEdge(Edge(g.getNode('New York'), g.getNode('Chicago')))\n",
    "    g.addEdge(Edge(g.getNode('Chicago'), g.getNode('Denver')))\n",
    "    g.addEdge(Edge(g.getNode('Chicago'), g.getNode('Phoenix')))\n",
    "    g.addEdge(Edge(g.getNode('Denver'), g.getNode('Phoenix')))\n",
    "    g.addEdge(Edge(g.getNode('Denver'), g.getNode('New York')))\n",
    "    g.addEdge(Edge(g.getNode('Los Angeles'), g.getNode('Boston')))\n",
    "    return g"
   ]
  },
  {
   "cell_type": "code",
   "execution_count": 9,
   "id": "96d0f449",
   "metadata": {},
   "outputs": [
    {
     "name": "stdout",
     "output_type": "stream",
     "text": [
      "Boston->Providence\n",
      "Boston->New York\n",
      "Providence->Boston\n",
      "Providence->New York\n",
      "New York->Chicago\n",
      "Chicago->Denver\n",
      "Chicago->Phoenix\n",
      "Denver->Phoenix\n",
      "Denver->New York\n",
      "Los Angeles->Boston\n"
     ]
    }
   ],
   "source": [
    "g = buildCityGraph(Digraph)\n",
    "print(g)"
   ]
  },
  {
   "cell_type": "code",
   "execution_count": 11,
   "id": "9f38a619",
   "metadata": {},
   "outputs": [],
   "source": [
    "def printPath(path):\n",
    "    \"\"\"Assumes path is a list of nodes\"\"\"\n",
    "    result = ''\n",
    "    for i in range(len(path)):\n",
    "        result = result + str(path[i])\n",
    "        if i != len(path) - 1:\n",
    "            result = result + '->'\n",
    "    return result \n",
    "\n",
    "def DFS(graph, start, end, path, shortest, toPrint = False):\n",
    "    '''Assumes graph is a Digraph; start and end are nodes;\n",
    "        path and shortest are lists of nodes\n",
    "        Return a shortest path from start to end in graph'''\n",
    "    path = path + [start]\n",
    "    if toPrint:\n",
    "        print('Current DFS path:', printPath(path))\n",
    "    if start == end:\n",
    "        return path\n",
    "    for node in graph.childrenOf(start):\n",
    "        if node not in path: #avoid cycles\n",
    "            if shortest == None or len(path) < len(shortest):\n",
    "                newPath = DFS(graph, node, end, path, shortest, toPrint)\n",
    "                if newPath != None:\n",
    "                    shortest = newPath\n",
    "        elif toPrint:\n",
    "            print('Already visited', node)\n",
    "    return shortest\n",
    "\n",
    "def shortestPath(graph, start, end, toPrint=False):\n",
    "    '''Assumes graph is a Digraph; start and end are nodes\n",
    "       Returns a shortest path from start to end in graph'''\n",
    "    return DFS(graph, start, end, [], None, toPrint)"
   ]
  },
  {
   "cell_type": "code",
   "execution_count": 13,
   "id": "4b59cdc6",
   "metadata": {},
   "outputs": [
    {
     "name": "stdout",
     "output_type": "stream",
     "text": [
      "Current DFS path: Boston\n",
      "Current DFS path: Boston->Providence\n",
      "Already visited Boston\n",
      "Current DFS path: Boston->Providence->New York\n",
      "Current DFS path: Boston->Providence->New York->Chicago\n",
      "Current DFS path: Boston->Providence->New York->Chicago->Denver\n",
      "Current DFS path: Boston->Providence->New York->Chicago->Denver->Phoenix\n",
      "Already visited New York\n",
      "Current DFS path: Boston->Providence->New York->Chicago->Phoenix\n",
      "Current DFS path: Boston->New York\n",
      "Current DFS path: Boston->New York->Chicago\n",
      "Current DFS path: Boston->New York->Chicago->Denver\n",
      "Current DFS path: Boston->New York->Chicago->Denver->Phoenix\n",
      "Already visited New York\n",
      "Current DFS path: Boston->New York->Chicago->Phoenix\n",
      "Shortest path from Boston to Phoenix is Boston->New York->Chicago->Phoenix\n",
      "\n"
     ]
    }
   ],
   "source": [
    "def testSP(source, destination):\n",
    "    g = buildCityGraph(Digraph)\n",
    "    sp = shortestPath(g, g.getNode(source), g.getNode(destination),\n",
    "                      toPrint = True)\n",
    "    if sp != None:\n",
    "        print('Shortest path from', source, 'to',\n",
    "              destination, 'is', printPath(sp))\n",
    "    else:\n",
    "        print('There is no path from', source, 'to', destination)\n",
    "\n",
    "testSP('Boston', 'Phoenix')\n",
    "print()"
   ]
  },
  {
   "cell_type": "markdown",
   "id": "9ca4cd14",
   "metadata": {},
   "source": [
    "## Breadth-first Search (BFS)"
   ]
  },
  {
   "cell_type": "code",
   "execution_count": 24,
   "id": "abc4fadb",
   "metadata": {},
   "outputs": [],
   "source": [
    "def BFS(graph, start, end, toPrint = False):\n",
    "    \"\"\"Assumes graph is a Digraph; start and end are nodes\n",
    "       Returns a shortest path from start to end in graph\"\"\"\n",
    "    initPath = [start]\n",
    "    pathQueue = [initPath]\n",
    "    while len(pathQueue) != 0:\n",
    "        #Get and remove oldest element in pathQueue\n",
    "        printQueue = False\n",
    "        if printQueue:\n",
    "            print('Queue:', len(pathQueue))\n",
    "            for p in pathQueue:\n",
    "                print(printPath(p))\n",
    "        tmpPath = pathQueue.pop(0)\n",
    "        if toPrint:\n",
    "            print('Current BFS path:', printPath(tmpPath))\n",
    "            print()\n",
    "        lastNode = tmpPath[-1]\n",
    "        if lastNode == end:\n",
    "            print('find shortest path')\n",
    "            return tmpPath\n",
    "        for nextNode in graph.childrenOf(lastNode):\n",
    "            if nextNode not in tmpPath:\n",
    "                newPath = tmpPath + [nextNode]\n",
    "                pathQueue.append(newPath)\n",
    "    return None"
   ]
  },
  {
   "cell_type": "code",
   "execution_count": 26,
   "id": "b1112c39",
   "metadata": {},
   "outputs": [
    {
     "name": "stdout",
     "output_type": "stream",
     "text": [
      "Current BFS path: Boston\n",
      "\n",
      "Current BFS path: Boston->Providence\n",
      "\n",
      "Current BFS path: Boston->New York\n",
      "\n",
      "Current BFS path: Boston->Providence->New York\n",
      "\n",
      "Current BFS path: Boston->New York->Chicago\n",
      "\n",
      "Current BFS path: Boston->Providence->New York->Chicago\n",
      "\n",
      "Current BFS path: Boston->New York->Chicago->Denver\n",
      "\n",
      "Current BFS path: Boston->New York->Chicago->Phoenix\n",
      "\n",
      "find shortest path\n"
     ]
    }
   ],
   "source": [
    "def shortestPath(graph, start, end, toPrint = False):\n",
    "    \"\"\"Assumes graph is a Digraph; start and end are nodes\n",
    "       Returns a shortest path from start to end in graph\"\"\"\n",
    "    return BFS(graph, start, end, toPrint)\n",
    "    \n",
    "#testSP('Boston', 'Phoenix')\n",
    "source = 'Boston'\n",
    "destination = 'Phoenix'\n",
    "sp = shortestPath(g, g.getNode(source), g.getNode(destination),\n",
    "                      toPrint = True)"
   ]
  },
  {
   "cell_type": "code",
   "execution_count": null,
   "id": "047af481",
   "metadata": {},
   "outputs": [],
   "source": []
  }
 ],
 "metadata": {
  "kernelspec": {
   "display_name": "Python 3 (ipykernel)",
   "language": "python",
   "name": "python3"
  },
  "language_info": {
   "codemirror_mode": {
    "name": "ipython",
    "version": 3
   },
   "file_extension": ".py",
   "mimetype": "text/x-python",
   "name": "python",
   "nbconvert_exporter": "python",
   "pygments_lexer": "ipython3",
   "version": "3.8.10"
  }
 },
 "nbformat": 4,
 "nbformat_minor": 5
}
