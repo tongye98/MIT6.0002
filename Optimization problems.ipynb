{
 "cells": [
  {
   "cell_type": "markdown",
   "id": "56ff8106",
   "metadata": {},
   "source": [
    "## Computational Models\n",
    "---\n",
    "+ Optimization models\n",
    "+ Statistical models\n",
    "+ Simulation models"
   ]
  },
  {
   "cell_type": "markdown",
   "id": "d4ec1294",
   "metadata": {},
   "source": [
    "## what is an Optimization Model?\n",
    "---\n",
    "**1. An objective funcion that is to be maximized or minimized**  \n",
    "\n",
    "**2. A set of constraints(possibly empty) that must be honored**"
   ]
  },
  {
   "cell_type": "markdown",
   "id": "bc320b32",
   "metadata": {},
   "source": [
    "## Knapsack Problem (背包问题）"
   ]
  },
  {
   "cell_type": "markdown",
   "id": "0105bcc3",
   "metadata": {},
   "source": [
    "### Brute Force Algorithm\n",
    "1. Enumerate all possible combinations of items. That is to say, generate all subsets of the set of items. This is\n",
    "called the **power set**.\n",
    "2. Remove all of the combinations whose total units exceeds the allowd weight.\n",
    "3. From the remaining combinaitons choose any one whose value is the largest."
   ]
  },
  {
   "cell_type": "markdown",
   "id": "1bd5e0b0",
   "metadata": {},
   "source": []
  },
  {
   "cell_type": "markdown",
   "id": "24acf965",
   "metadata": {},
   "source": [
    "## Greedy Algorithm a Practical Alternative\n",
    "---\n",
    "+ while knapsack not full: put best available item in knapsack\n",
    "+ But what does best mean?\n",
    "   + Most valuable\n",
    "   + Lest expensive\n",
    "   + Higest value/units"
   ]
  },
  {
   "cell_type": "code",
   "execution_count": 7,
   "id": "51063b7f",
   "metadata": {},
   "outputs": [],
   "source": [
    "class Food(object):\n",
    "    def __init__(self, n, v, w):\n",
    "        self.name = n\n",
    "        self.value = v\n",
    "        self.calories = w\n",
    "    \n",
    "    def getValue(self):\n",
    "        return self.value\n",
    "    \n",
    "    def getCost(self):\n",
    "        return self.calories\n",
    "    \n",
    "    def density(self):\n",
    "        return self.getValue()/self.getCost()\n",
    "    \n",
    "    def __str__(self):\n",
    "        return self.name + \":<\" + str(self.value) + \",\" + str(self.calories) + \">\"\n",
    "    \n",
    "\n",
    "def buildMenu(names, values, calories):\n",
    "    '''\n",
    "    names,values,calories lists of same length.\n",
    "    name a  list of strings\n",
    "    values and calories list of numbers\n",
    "    return: list of foods\n",
    "    '''\n",
    "    menu = []\n",
    "    for i in range(len(values)):\n",
    "        menu.append(Food(names[i],values[i],calories[i]))\n",
    "    return menu"
   ]
  },
  {
   "cell_type": "code",
   "execution_count": 11,
   "id": "963f1005",
   "metadata": {},
   "outputs": [],
   "source": [
    "def greedy(items, maxCost, keyFunction):\n",
    "    \"\"\"Assumes items a list, maxCost >= 0,\n",
    "         keyFunction maps elements of items to numbers\"\"\"\n",
    "    itemsCopy = sorted(items, key = keyFunction, reverse = True) # keyFunction :type == function\n",
    "    result = []\n",
    "    totalValue, totalCost = 0.0, 0.0\n",
    "    for i in range(len(itemsCopy)):\n",
    "        if (totalCost+itemsCopy[i].getCost()) <= maxCost:\n",
    "            result.append(itemsCopy[i])\n",
    "            totalCost += itemsCopy[i].getCost()\n",
    "            totalValue += itemsCopy[i].getValue()\n",
    "    return (result, totalValue)"
   ]
  },
  {
   "cell_type": "markdown",
   "id": "3a11295d",
   "metadata": {},
   "source": [
    "## sorted(iterable, key=None, reverse=False)\n",
    "+ iterable -- 可迭代对象\n",
    "+ key -- 用来进行比较的对象，具体的函数的参数就是取自于可迭代对象中，指定可迭代对象的一个元素进行排序\n",
    "+ reverse -- true：降序；false：升序\n",
    "+ return：重新排序的列表"
   ]
  },
  {
   "cell_type": "code",
   "execution_count": 17,
   "id": "25ed00ab",
   "metadata": {},
   "outputs": [],
   "source": [
    "def testGreedy(items, constraint, keyFunction):\n",
    "    taken, val = greedy(items, constraint, keyFunction)\n",
    "    print('Total value of items taken =', val)\n",
    "    for item in taken:\n",
    "        print('   ', item)\n",
    "\n",
    "def testGreedys(foods, maxUnits):\n",
    "    print('Use greedy by value to allocate', maxUnits, 'calories')\n",
    "    testGreedy(foods, maxUnits, Food.getValue)\n",
    "    print('\\nUse greedy by cost to allocate', maxUnits, 'calories')\n",
    "    testGreedy(foods, maxUnits, lambda x: 1/Food.getCost(x))\n",
    "    print('\\nUse greedy by density to allocate', maxUnits, 'calories')\n",
    "    testGreedy(foods, maxUnits, Food.density)"
   ]
  },
  {
   "cell_type": "markdown",
   "id": "5b7a5aa1",
   "metadata": {},
   "source": [
    "## lambda\n",
    "### lambda used to create anonymous functions 匿名函数\n",
    "+ lambda < id1,id2,... idn>: expression\n",
    "+ returns a funciton of n arguments\n",
    "---\n",
    "can be very handy  \n",
    "possible to write amazing complicated lambda expressions\n",
    "\n",
    "Example:\n",
    "```\n",
    "f = lambda x,y: x**2 + y**2\n",
    "f(3,4) == 25\n",
    "```"
   ]
  },
  {
   "cell_type": "code",
   "execution_count": 15,
   "id": "a66de533",
   "metadata": {},
   "outputs": [
    {
     "name": "stdout",
     "output_type": "stream",
     "text": [
      "Use greedy by value to allocate 1000 calories\n",
      "Total value of items taken = 424.0\n",
      "    burger:<100,354>\n",
      "    pizza:<95,258>\n",
      "    beer:<90,154>\n",
      "    wine:<89,123>\n",
      "    apple:<50,95>\n",
      "\n",
      "Use greedy by cost to allocate 1000 calories\n",
      "Total value of items taken = 413.0\n",
      "    apple:<50,95>\n",
      "    wine:<89,123>\n",
      "    cola:<79,150>\n",
      "    beer:<90,154>\n",
      "    donut:<10,195>\n",
      "    pizza:<95,258>\n",
      "\n",
      "Use greedy by density to allocate 1000 calories\n",
      "Total value of items taken = 413.0\n",
      "    wine:<89,123>\n",
      "    beer:<90,154>\n",
      "    cola:<79,150>\n",
      "    apple:<50,95>\n",
      "    pizza:<95,258>\n",
      "    donut:<10,195>\n"
     ]
    }
   ],
   "source": [
    "names = ['wine', 'beer', 'pizza', 'burger', 'fries',\n",
    "         'cola', 'apple', 'donut', 'cake']\n",
    "values = [89,90,95,100,90,79,50,10]\n",
    "calories = [123,154,258,354,365,150,95,195]\n",
    "foods = buildMenu(names, values, calories)\n",
    "testGreedys(foods, 1000)"
   ]
  },
  {
   "cell_type": "markdown",
   "id": "03f2106a",
   "metadata": {},
   "source": [
    "## why different answers?\n",
    "**Sequence fo locally optimal choices don't always yield a globally optimal solution**\n",
    "## The Pros and Cos of Greedy\n",
    "**Easy to implement**  \n",
    "**Computationally efficient**  \n",
    "**But does not always yield the best solution**  \n",
    "   Don't even know how good the approximation is"
   ]
  },
  {
   "cell_type": "markdown",
   "id": "32bb7e5d",
   "metadata": {},
   "source": [
    "# Brute Force Algorithm\n",
    "## Search Tree Implementation\n",
    "1. The tree is built top down starting with the cost\n",
    "2. The first element is selected from the still to be considered items\n",
    "3. The process is then applied recursively to non-leaf children\n",
    "4. Finally, choose a node with the highest value that meets constraints"
   ]
  },
  {
   "cell_type": "markdown",
   "id": "a895b9d2",
   "metadata": {},
   "source": [
    "![avatar](./img/SearchTree.png)"
   ]
  },
  {
   "cell_type": "markdown",
   "id": "622c05bf",
   "metadata": {},
   "source": [
    "## Computational Complexity\n",
    "1. Time based on number of nodes generated\n",
    "2. Number of levels is number of items to choose from\n",
    "3. Number of nodes at level i is 2^i\n",
    "4. if there are n items, the number of nodes is 2^(n+1). O(2^n)\n",
    "5. An obvious optimization: don't explore parts of tree  that violate constraint\n",
    "**Doesn't change complexity**"
   ]
  },
  {
   "cell_type": "markdown",
   "id": "721bb587",
   "metadata": {},
   "source": [
    "## Header of Decision Tree Implementation"
   ]
  },
  {
   "cell_type": "code",
   "execution_count": 18,
   "id": "eba85f76",
   "metadata": {},
   "outputs": [],
   "source": [
    "def maxVal(toConsider, avail):\n",
    "    \"\"\"Assumes toConsider a list of items, avail a weight\n",
    "       Returns a tuple of the total value of a solution to the\n",
    "         0/1 knapsack problem and the items of that solution\"\"\"\n",
    "    if toConsider == [] or avail == 0:\n",
    "        result = (0, ())\n",
    "    elif toConsider[0].getCost() > avail:\n",
    "        #Explore right branch only\n",
    "        result = maxVal(toConsider[1:], avail)\n",
    "    else:\n",
    "        nextItem = toConsider[0]\n",
    "        #Explore left branch\n",
    "        withVal, withToTake = maxVal(toConsider[1:],\n",
    "                                     avail - nextItem.getCost())\n",
    "        withVal += nextItem.getValue()\n",
    "        #Explore right branch\n",
    "        withoutVal, withoutToTake = maxVal(toConsider[1:], avail)\n",
    "        #Choose better branch\n",
    "        if withVal > withoutVal:\n",
    "            result = (withVal, withToTake + (nextItem,))\n",
    "        else:\n",
    "            result = (withoutVal, withoutToTake)\n",
    "    return result"
   ]
  },
  {
   "cell_type": "code",
   "execution_count": 19,
   "id": "4a818006",
   "metadata": {},
   "outputs": [
    {
     "name": "stdout",
     "output_type": "stream",
     "text": [
      "Use greedy by value to allocate 750 calories\n",
      "Total value of items taken = 284.0\n",
      "    burger:<100,354>\n",
      "    pizza:<95,258>\n",
      "    wine:<89,123>\n",
      "\n",
      "Use greedy by cost to allocate 750 calories\n",
      "Total value of items taken = 318.0\n",
      "    apple:<50,95>\n",
      "    wine:<89,123>\n",
      "    cola:<79,150>\n",
      "    beer:<90,154>\n",
      "    donut:<10,195>\n",
      "\n",
      "Use greedy by density to allocate 750 calories\n",
      "Total value of items taken = 318.0\n",
      "    wine:<89,123>\n",
      "    beer:<90,154>\n",
      "    cola:<79,150>\n",
      "    apple:<50,95>\n",
      "    donut:<10,195>\n",
      "\n",
      "Use search tree to allocate 750 calories\n",
      "Total value of items taken = 353\n",
      "    cola:<79,150>\n",
      "    pizza:<95,258>\n",
      "    beer:<90,154>\n",
      "    wine:<89,123>\n"
     ]
    }
   ],
   "source": [
    "def testMaxVal(foods, maxUnits, printItems = True):\n",
    "    print('Use search tree to allocate', maxUnits,\n",
    "          'calories')\n",
    "    val, taken = maxVal(foods, maxUnits)\n",
    "    print('Total value of items taken =', val)\n",
    "    if printItems:\n",
    "        for item in taken:\n",
    "            print('   ', item)\n",
    "\n",
    "names = ['wine', 'beer', 'pizza', 'burger', 'fries',\n",
    "         'cola', 'apple', 'donut', 'cake']\n",
    "values = [89,90,95,100,90,79,50,10]\n",
    "calories = [123,154,258,354,365,150,95,195]\n",
    "foods = buildMenu(names, values, calories)\n",
    "\n",
    "testGreedys(foods, 750)\n",
    "print('')\n",
    "testMaxVal(foods, 750)"
   ]
  },
  {
   "cell_type": "markdown",
   "id": "1b265da4",
   "metadata": {},
   "source": [
    "## Code to Try Larger Examples"
   ]
  },
  {
   "cell_type": "code",
   "execution_count": 20,
   "id": "d558b03e",
   "metadata": {},
   "outputs": [
    {
     "name": "stdout",
     "output_type": "stream",
     "text": [
      "Try a menu with 5 items\n",
      "Use search tree to allocate 750 calories\n",
      "Total value of items taken = 292\n",
      "Try a menu with 10 items\n",
      "Use search tree to allocate 750 calories\n",
      "Total value of items taken = 317\n",
      "Try a menu with 15 items\n",
      "Use search tree to allocate 750 calories\n",
      "Total value of items taken = 571\n",
      "Try a menu with 20 items\n",
      "Use search tree to allocate 750 calories\n",
      "Total value of items taken = 505\n",
      "Try a menu with 25 items\n",
      "Use search tree to allocate 750 calories\n",
      "Total value of items taken = 456\n",
      "Try a menu with 30 items\n",
      "Use search tree to allocate 750 calories\n",
      "Total value of items taken = 533\n",
      "Try a menu with 35 items\n",
      "Use search tree to allocate 750 calories\n",
      "Total value of items taken = 812\n",
      "Try a menu with 40 items\n",
      "Use search tree to allocate 750 calories\n",
      "Total value of items taken = 804\n",
      "Try a menu with 45 items\n",
      "Use search tree to allocate 750 calories\n",
      "Total value of items taken = 688\n"
     ]
    }
   ],
   "source": [
    "import random\n",
    "\n",
    "def buildLargeMenu(numItems, maxVal, maxCost):\n",
    "    items = []\n",
    "    for i in range(numItems):\n",
    "        items.append(Food(str(i), random.randint(1, maxVal), random.randint(1, maxCost)))\n",
    "    return items\n",
    "\n",
    "for numItems in (5, 10, 15, 20, 25, 30, 35, 40, 45):\n",
    "    print('Try a menu with', numItems, 'items')\n",
    "    items = buildLargeMenu(numItems, 90, 250)\n",
    "    testMaxVal(items, 750, False)  "
   ]
  },
  {
   "cell_type": "markdown",
   "id": "3cd2278e",
   "metadata": {},
   "source": [
    "## Dynamic Programming"
   ]
  },
  {
   "cell_type": "markdown",
   "id": "fd16b932",
   "metadata": {},
   "source": [
    "### Recursive Implementation of Fibonnaci"
   ]
  },
  {
   "cell_type": "code",
   "execution_count": 21,
   "id": "95f6c737",
   "metadata": {},
   "outputs": [],
   "source": [
    "def fib(n):\n",
    "    if n == 0 or n == 1:\n",
    "        return 1\n",
    "    else:\n",
    "        return fib(n-1) + fib(n-2)"
   ]
  },
  {
   "cell_type": "markdown",
   "id": "43ee52c0",
   "metadata": {},
   "source": [
    "### Call Tree for Recursive Fibonnaci(6) = 13"
   ]
  },
  {
   "cell_type": "markdown",
   "id": "a6935505",
   "metadata": {},
   "source": [
    "![calltree](./img/CallTree.png)"
   ]
  },
  {
   "cell_type": "markdown",
   "id": "eb7f0504",
   "metadata": {},
   "source": [
    "## Clearly a Bad Idea to Repeat Work\n",
    "1. Trade a time for space\n",
    "2. Create a table to record what we've done\n",
    "3. called memoization"
   ]
  },
  {
   "cell_type": "code",
   "execution_count": 22,
   "id": "805a6f8f",
   "metadata": {},
   "outputs": [],
   "source": [
    "def fastFib(n, memo = {}):\n",
    "    \"\"\"Assumes n is an int >= 0, memo used only by recursive calls\n",
    "       Returns Fibonacci of n\"\"\"\n",
    "    if n == 0 or n == 1:\n",
    "        return 1\n",
    "    try:\n",
    "        return memo[n]\n",
    "    except KeyError:\n",
    "        result = fastFib(n-1, memo) + fastFib(n-2, memo)\n",
    "        memo[n] = result\n",
    "        return result"
   ]
  },
  {
   "cell_type": "code",
   "execution_count": 24,
   "id": "9c7f0e0e",
   "metadata": {},
   "outputs": [
    {
     "name": "stdout",
     "output_type": "stream",
     "text": [
      "fib(100) = 573147844013817084101\n",
      "fib(101) = 927372692193078999176\n",
      "fib(102) = 1500520536206896083277\n",
      "fib(103) = 2427893228399975082453\n",
      "fib(104) = 3928413764606871165730\n",
      "fib(105) = 6356306993006846248183\n",
      "fib(106) = 10284720757613717413913\n",
      "fib(107) = 16641027750620563662096\n",
      "fib(108) = 26925748508234281076009\n",
      "fib(109) = 43566776258854844738105\n",
      "fib(110) = 70492524767089125814114\n",
      "fib(111) = 114059301025943970552219\n",
      "fib(112) = 184551825793033096366333\n",
      "fib(113) = 298611126818977066918552\n",
      "fib(114) = 483162952612010163284885\n",
      "fib(115) = 781774079430987230203437\n",
      "fib(116) = 1264937032042997393488322\n",
      "fib(117) = 2046711111473984623691759\n",
      "fib(118) = 3311648143516982017180081\n",
      "fib(119) = 5358359254990966640871840\n",
      "fib(120) = 8670007398507948658051921\n"
     ]
    }
   ],
   "source": [
    "for i in range(100,121):\n",
    "    print('fib(' + str(i) + ') =', fastFib(i))"
   ]
  },
  {
   "cell_type": "markdown",
   "id": "d18555d8",
   "metadata": {},
   "source": [
    "## When Dose It Work?\n",
    "### Optimal substructure: a globally optimal solution can be found by combining optimal solutions to local subproblems\n",
    "### Overlapping subproblems: finding an optimal solution involves solving the same problem multiple times"
   ]
  },
  {
   "cell_type": "markdown",
   "id": "a3f6f958",
   "metadata": {},
   "source": [
    "## Modify maxVal to Use a Memo"
   ]
  },
  {
   "cell_type": "code",
   "execution_count": 25,
   "id": "18c43cae",
   "metadata": {},
   "outputs": [],
   "source": [
    "def fastMaxVal(toConsider, avail, memo = {}):\n",
    "    \"\"\"Assumes toConsider a list of subjects, avail a weight\n",
    "         memo supplied by recursive calls\n",
    "       Returns a tuple of the total value of a solution to the\n",
    "         0/1 knapsack problem and the subjects of that solution\"\"\"\n",
    "    if (len(toConsider), avail) in memo:\n",
    "        result = memo[(len(toConsider), avail)]\n",
    "    elif toConsider == [] or avail == 0:\n",
    "        result = (0, ())\n",
    "    elif toConsider[0].getCost() > avail:\n",
    "        #Explore right branch only\n",
    "        result = fastMaxVal(toConsider[1:], avail, memo)\n",
    "    else:\n",
    "        nextItem = toConsider[0]\n",
    "        #Explore left branch\n",
    "        withVal, withToTake =\\\n",
    "                 fastMaxVal(toConsider[1:],\n",
    "                            avail - nextItem.getCost(), memo)\n",
    "        withVal += nextItem.getValue()\n",
    "        #Explore right branch\n",
    "        withoutVal, withoutToTake = fastMaxVal(toConsider[1:],\n",
    "                                                avail, memo)\n",
    "        #Choose better branch\n",
    "        if withVal > withoutVal:\n",
    "            result = (withVal, withToTake + (nextItem,))\n",
    "        else:\n",
    "            result = (withoutVal, withoutToTake)\n",
    "    memo[(len(toConsider), avail)] = result\n",
    "    return result\n"
   ]
  },
  {
   "cell_type": "code",
   "execution_count": 28,
   "id": "1de4313d",
   "metadata": {},
   "outputs": [
    {
     "name": "stdout",
     "output_type": "stream",
     "text": [
      "Menu contains 5 items\n",
      "Use search tree to allocate 750 calories\n",
      "Total value of items taken = 221\n",
      "    4:<50,161>\n",
      "    3:<58,131>\n",
      "    2:<50,171>\n",
      "    1:<63,175>\n",
      "Menu contains 10 items\n",
      "Use search tree to allocate 750 calories\n",
      "Total value of items taken = 282\n",
      "    9:<55,176>\n",
      "    7:<10,39>\n",
      "    6:<35,97>\n",
      "    4:<25,2>\n",
      "    3:<83,101>\n",
      "    2:<55,221>\n",
      "    1:<19,18>\n",
      "Menu contains 15 items\n",
      "Use search tree to allocate 750 calories\n",
      "Total value of items taken = 499\n",
      "    14:<78,64>\n",
      "    12:<44,2>\n",
      "    11:<21,100>\n",
      "    10:<42,66>\n",
      "    9:<89,127>\n",
      "    7:<55,65>\n",
      "    5:<77,199>\n",
      "    3:<52,4>\n",
      "    2:<41,41>\n",
      "Menu contains 20 items\n",
      "Use search tree to allocate 750 calories\n",
      "Total value of items taken = 565\n",
      "    14:<78,64>\n",
      "    12:<44,2>\n",
      "    10:<42,66>\n",
      "    9:<89,127>\n",
      "    8:<55,132>\n",
      "    7:<55,65>\n",
      "    4:<21,97>\n",
      "    3:<52,4>\n",
      "    7:<61,88>\n",
      "    4:<68,95>\n",
      "Menu contains 25 items\n",
      "Use search tree to allocate 750 calories\n",
      "Total value of items taken = 645\n",
      "    12:<44,2>\n",
      "    10:<42,66>\n",
      "    9:<89,127>\n",
      "    18:<74,80>\n",
      "    17:<87,30>\n",
      "    13:<51,140>\n",
      "    11:<89,32>\n",
      "    10:<50,31>\n",
      "    9:<60,151>\n",
      "    2:<59,82>\n",
      "Menu contains 30 items\n",
      "Use search tree to allocate 750 calories\n",
      "Total value of items taken = 732\n",
      "    14:<78,64>\n",
      "    12:<44,2>\n",
      "    10:<42,66>\n",
      "    9:<89,127>\n",
      "    13:<42,8>\n",
      "    17:<87,30>\n",
      "    11:<89,32>\n",
      "    10:<69,126>\n",
      "    8:<36,51>\n",
      "    6:<48,37>\n",
      "    3:<20,53>\n",
      "    1:<46,90>\n",
      "    0:<42,62>\n",
      "Menu contains 35 items\n",
      "Use search tree to allocate 750 calories\n",
      "Total value of items taken = 846\n",
      "    14:<78,64>\n",
      "    12:<44,2>\n",
      "    10:<42,66>\n",
      "    13:<42,8>\n",
      "    17:<87,30>\n",
      "    13:<51,140>\n",
      "    11:<89,32>\n",
      "    10:<50,31>\n",
      "    14:<56,104>\n",
      "    12:<70,27>\n",
      "    10:<33,8>\n",
      "    6:<58,69>\n",
      "    2:<77,107>\n",
      "    0:<69,25>\n",
      "Menu contains 40 items\n",
      "Use search tree to allocate 750 calories\n",
      "Total value of items taken = 846\n",
      "    14:<78,64>\n",
      "    12:<44,2>\n",
      "    10:<42,66>\n",
      "    13:<42,8>\n",
      "    17:<87,30>\n",
      "    13:<51,140>\n",
      "    11:<89,32>\n",
      "    10:<50,31>\n",
      "    14:<56,104>\n",
      "    12:<70,27>\n",
      "    10:<33,8>\n",
      "    6:<58,69>\n",
      "    2:<77,107>\n",
      "    0:<69,25>\n",
      "Menu contains 45 items\n",
      "Use search tree to allocate 750 calories\n",
      "Total value of items taken = 960\n",
      "    14:<78,64>\n",
      "    12:<44,2>\n",
      "    15:<61,84>\n",
      "    13:<42,8>\n",
      "    11:<89,32>\n",
      "    10:<50,31>\n",
      "    14:<56,104>\n",
      "    9:<7,20>\n",
      "    12:<70,27>\n",
      "    10:<33,8>\n",
      "    14:<71,24>\n",
      "    13:<50,3>\n",
      "    15:<1,15>\n",
      "    13:<35,65>\n",
      "    12:<67,107>\n",
      "    9:<84,22>\n",
      "    6:<40,32>\n",
      "    2:<20,10>\n",
      "    0:<62,90>\n",
      "Menu contains 50 items\n",
      "Use search tree to allocate 750 calories\n",
      "Total value of items taken = 1008\n",
      "    12:<44,2>\n",
      "    10:<42,66>\n",
      "    9:<89,127>\n",
      "    17:<87,30>\n",
      "    11:<89,32>\n",
      "    10:<50,31>\n",
      "    18:<75,115>\n",
      "    12:<70,27>\n",
      "    14:<71,24>\n",
      "    13:<50,3>\n",
      "    15:<1,15>\n",
      "    9:<84,22>\n",
      "    6:<40,32>\n",
      "    5:<89,125>\n",
      "    8:<38,26>\n",
      "    0:<89,64>\n"
     ]
    }
   ],
   "source": [
    "def testMaxVal(foods, maxUnits, algorithm, printItems = True):\n",
    "    print('Menu contains', len(foods), 'items')\n",
    "    print('Use search tree to allocate', maxUnits, 'calories')\n",
    "    val, taken = algorithm(foods, maxUnits)\n",
    "    if printItems:\n",
    "        print('Total value of items taken =', val)\n",
    "        for item in taken:\n",
    "            print('   ', item)\n",
    "            \n",
    "            \n",
    "for numItems in (5, 10, 15, 20, 25, 30, 35, 40, 45, 50):\n",
    "    items = buildLargeMenu(numItems, 90, 250)\n",
    "    testMaxVal(items, 750, fastMaxVal, True)"
   ]
  },
  {
   "cell_type": "markdown",
   "id": "68aa1537",
   "metadata": {},
   "source": [
    "# Summary\n",
    "### Many problems of parctical importance can be formulated as optimization problems\n",
    "### Greedy algorithms often provide adequent(though not necessarily optimal) solutions\n",
    "### Finding an optimal solution is usually exponentially hard\n",
    "### But dynamic programming often yields good performance for a subclass of optimization problems--- those with optimal substructure and overlapping subproblems\n",
    "---\n",
    "1. **Solution always correct**\n",
    "2. **Fast under the right circumstances**"
   ]
  }
 ],
 "metadata": {
  "kernelspec": {
   "display_name": "Python 3 (ipykernel)",
   "language": "python",
   "name": "python3"
  },
  "language_info": {
   "codemirror_mode": {
    "name": "ipython",
    "version": 3
   },
   "file_extension": ".py",
   "mimetype": "text/x-python",
   "name": "python",
   "nbconvert_exporter": "python",
   "pygments_lexer": "ipython3",
   "version": "3.8.10"
  }
 },
 "nbformat": 4,
 "nbformat_minor": 5
}
