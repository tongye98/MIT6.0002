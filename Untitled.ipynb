{
 "cells": [
  {
   "cell_type": "code",
   "execution_count": 1,
   "id": "f32ffec4",
   "metadata": {},
   "outputs": [
    {
     "data": {
      "text/plain": [
       "['a']"
      ]
     },
     "execution_count": 1,
     "metadata": {},
     "output_type": "execute_result"
    }
   ],
   "source": [
    "a = ['a']\n",
    "a"
   ]
  },
  {
   "cell_type": "code",
   "execution_count": 2,
   "id": "0c138a95",
   "metadata": {},
   "outputs": [
    {
     "data": {
      "text/plain": [
       "['a', 'b']"
      ]
     },
     "execution_count": 2,
     "metadata": {},
     "output_type": "execute_result"
    }
   ],
   "source": [
    "a + ['b']"
   ]
  },
  {
   "cell_type": "code",
   "execution_count": 3,
   "id": "b970a8bc",
   "metadata": {},
   "outputs": [
    {
     "data": {
      "text/plain": [
       "['a']"
      ]
     },
     "execution_count": 3,
     "metadata": {},
     "output_type": "execute_result"
    }
   ],
   "source": [
    "b = a\n",
    "b"
   ]
  },
  {
   "cell_type": "code",
   "execution_count": 4,
   "id": "8d208a90",
   "metadata": {},
   "outputs": [],
   "source": [
    "b.append('bb')"
   ]
  },
  {
   "cell_type": "code",
   "execution_count": 5,
   "id": "70ff07f7",
   "metadata": {},
   "outputs": [
    {
     "data": {
      "text/plain": [
       "['a', 'bb']"
      ]
     },
     "execution_count": 5,
     "metadata": {},
     "output_type": "execute_result"
    }
   ],
   "source": [
    "a"
   ]
  },
  {
   "cell_type": "code",
   "execution_count": 8,
   "id": "c4de1fa0",
   "metadata": {},
   "outputs": [
    {
     "name": "stdout",
     "output_type": "stream",
     "text": [
      "before call: ['a']\n",
      "in call: ['a', 'b']\n",
      "after call: ['a']\n",
      "final path: []\n"
     ]
    }
   ],
   "source": [
    "def callpath(path):\n",
    "    path = path + ['b']\n",
    "    print('in call:',path)\n",
    "def testpath(path):\n",
    "    path = path + ['a']\n",
    "    print('before call:', path)\n",
    "    callpath(path)\n",
    "    print('after call:', path)\n",
    "    \n",
    "path = []\n",
    "testpath(path)\n",
    "print('final path:',path)"
   ]
  },
  {
   "cell_type": "code",
   "execution_count": null,
   "id": "e4290e15",
   "metadata": {},
   "outputs": [],
   "source": []
  }
 ],
 "metadata": {
  "kernelspec": {
   "display_name": "Python 3 (ipykernel)",
   "language": "python",
   "name": "python3"
  },
  "language_info": {
   "codemirror_mode": {
    "name": "ipython",
    "version": 3
   },
   "file_extension": ".py",
   "mimetype": "text/x-python",
   "name": "python",
   "nbconvert_exporter": "python",
   "pygments_lexer": "ipython3",
   "version": "3.8.10"
  }
 },
 "nbformat": 4,
 "nbformat_minor": 5
}
