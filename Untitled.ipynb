{
 "cells": [
  {
   "cell_type": "code",
   "execution_count": 19,
   "id": "f32ffec4",
   "metadata": {},
   "outputs": [
    {
     "data": {
      "text/plain": [
       "['a']"
      ]
     },
     "execution_count": 19,
     "metadata": {},
     "output_type": "execute_result"
    }
   ],
   "source": [
    "a = ['a']\n",
    "a"
   ]
  },
  {
   "cell_type": "code",
   "execution_count": 20,
   "id": "0c138a95",
   "metadata": {},
   "outputs": [
    {
     "data": {
      "text/plain": [
       "['a', 'b']"
      ]
     },
     "execution_count": 20,
     "metadata": {},
     "output_type": "execute_result"
    }
   ],
   "source": [
    "a + ['b']"
   ]
  },
  {
   "cell_type": "code",
   "execution_count": 21,
   "id": "b970a8bc",
   "metadata": {},
   "outputs": [
    {
     "data": {
      "text/plain": [
       "['a']"
      ]
     },
     "execution_count": 21,
     "metadata": {},
     "output_type": "execute_result"
    }
   ],
   "source": [
    "b = a\n",
    "b"
   ]
  },
  {
   "cell_type": "code",
   "execution_count": 22,
   "id": "8d208a90",
   "metadata": {},
   "outputs": [],
   "source": [
    "b.append('bb')"
   ]
  },
  {
   "cell_type": "code",
   "execution_count": 23,
   "id": "70ff07f7",
   "metadata": {},
   "outputs": [
    {
     "data": {
      "text/plain": [
       "['a', 'bb']"
      ]
     },
     "execution_count": 23,
     "metadata": {},
     "output_type": "execute_result"
    }
   ],
   "source": [
    "a"
   ]
  },
  {
   "cell_type": "code",
   "execution_count": 24,
   "id": "c4de1fa0",
   "metadata": {},
   "outputs": [
    {
     "name": "stdout",
     "output_type": "stream",
     "text": [
      "before call: ['a']\n",
      "in call: ['a', 'b']\n",
      "after call: ['a']\n",
      "final path: []\n"
     ]
    }
   ],
   "source": [
    "def callpath(path):\n",
    "    path = path + ['b']\n",
    "    print('in call:',path)\n",
    "def testpath(path):\n",
    "    path = path + ['a']\n",
    "    print('before call:', path)\n",
    "    callpath(path)\n",
    "    print('after call:', path)\n",
    "    \n",
    "path = []\n",
    "testpath(path)\n",
    "print('final path:',path)"
   ]
  },
  {
   "cell_type": "code",
   "execution_count": 25,
   "id": "e4290e15",
   "metadata": {},
   "outputs": [
    {
     "data": {
      "text/plain": [
       "{'a': 'aa'}"
      ]
     },
     "execution_count": 25,
     "metadata": {},
     "output_type": "execute_result"
    }
   ],
   "source": [
    "edges = {}\n",
    "edges['a'] = 'aa'\n",
    "edges"
   ]
  },
  {
   "cell_type": "code",
   "execution_count": 26,
   "id": "64c15ef0",
   "metadata": {},
   "outputs": [
    {
     "data": {
      "text/plain": [
       "{'a': 'aa', 'b': ['bb']}"
      ]
     },
     "execution_count": 26,
     "metadata": {},
     "output_type": "execute_result"
    }
   ],
   "source": [
    "edges['b'] = []\n",
    "edges['b'].append('bb')\n",
    "edges"
   ]
  },
  {
   "cell_type": "code",
   "execution_count": 27,
   "id": "4788dda3",
   "metadata": {},
   "outputs": [],
   "source": [
    "# 6.0002 Problem Set 5\n",
    "# Graph optimization\n",
    "# Name:\n",
    "# Collaborators:\n",
    "# Time:\n",
    "\n",
    "import unittest\n",
    "\n",
    "#\n",
    "# A set of data structures to represent graphs\n",
    "#\n",
    "\n",
    "class Node(object):\n",
    "    \"\"\"Represents a node in the graph\"\"\"\n",
    "    def __init__(self, name):\n",
    "        self.name = str(name)\n",
    "\n",
    "    def get_name(self):\n",
    "        return self.name\n",
    "\n",
    "    def __str__(self):\n",
    "        return self.name\n",
    "\n",
    "    def __repr__(self):\n",
    "        return self.name\n",
    "\n",
    "    def __eq__(self, other):\n",
    "        return self.name == other.name\n",
    "\n",
    "    def __ne__(self, other):\n",
    "        return not self.__eq__(other)\n",
    "\n",
    "    def __hash__(self):\n",
    "        # This function is necessary so that Nodes can be used as\n",
    "        # keys in a dictionary, even though Nodes are mutable\n",
    "        return self.name.__hash__()\n",
    "\n",
    "\n",
    "class Edge(object):\n",
    "    \"\"\"Represents an edge in the dictionary. Includes a source and\n",
    "    a destination.\"\"\"\n",
    "    def __init__(self, src, dest):\n",
    "        self.src = src\n",
    "        self.dest = dest\n",
    "\n",
    "    def get_source(self):\n",
    "        return self.src\n",
    "\n",
    "    def get_destination(self):\n",
    "        return self.dest\n",
    "\n",
    "    def __str__(self):\n",
    "        return '{}->{}'.format(self.src, self.dest)\n",
    "\n",
    "\n",
    "class WeightedEdge(Edge):\n",
    "    def __init__(self, src, dest, total_distance, outdoor_distance):\n",
    "        Edge.__init__(self,src,dest)\n",
    "        self.total_distance = total_distance\n",
    "        self.outdoor_distance = outdoor_distance\n",
    "\n",
    "    def get_total_distance(self):\n",
    "        return self.total_distance\n",
    "\n",
    "    def get_outdoor_distance(self):\n",
    "        return self.outdoor_distance\n",
    "\n",
    "    def __str__(self):\n",
    "        return '{}->{} ({}, {})'.format(str(self.src),str(self.dest),self.total_distance,self.outdoor_distance)\n",
    "\n",
    "\n",
    "class Digraph(object):\n",
    "    \"\"\"Represents a directed graph of Node and Edge objects\"\"\"\n",
    "    def __init__(self):\n",
    "        self.nodes = set([])\n",
    "        self.edges = {}  # must be a dict of Node -> list of edges\n",
    "\n",
    "    def __str__(self):\n",
    "        edge_strs = []\n",
    "        for edges in self.edges.values():\n",
    "            for edge in edges:\n",
    "                edge_strs.append(str(edge))\n",
    "        edge_strs = sorted(edge_strs)  # sort alphabetically\n",
    "        return '\\n'.join(edge_strs)  # concat edge_strs with \"\\n\"s between them\n",
    "\n",
    "    def get_edges_for_node(self, node):\n",
    "        return self.edges[node]\n",
    "\n",
    "    def has_node(self, node):\n",
    "        return node in self.nodes\n",
    "\n",
    "    def add_node(self, node):\n",
    "        \"\"\"Adds a Node object to the Digraph. Raises a ValueError if it is\n",
    "        already in the graph.\"\"\"\n",
    "        if self.has_node(node):\n",
    "            raise ValueError('Duplicate node')\n",
    "        else:\n",
    "            self.nodes.add(node)\n",
    "            self.edges[node] = []\n",
    "\n",
    "    def add_edge(self, edge):\n",
    "        \"\"\"Adds an Edge or WeightedEdge instance to the Digraph. Raises a\n",
    "        ValueError if either of the nodes associated with the edge is not\n",
    "        in the  graph.\"\"\"\n",
    "        if self.has_node(edge.get_source()) and self.has_node(edge.get_destination()):\n",
    "            self.edges[edge.get_source()].append(edge)\n",
    "        else:\n",
    "            raise ValueError('nodes associated with the edge is not in the graph')\n",
    "            \n",
    "\n",
    "\n",
    "# ================================================================\n",
    "# Begin tests -- you do not need to modify anything below this line\n",
    "# ================================================================\n",
    "\n",
    "class TestGraph(unittest.TestCase):\n",
    "\n",
    "    def setUp(self):\n",
    "        self.g = Digraph()\n",
    "        self.na = Node('a')\n",
    "        self.nb = Node('b')\n",
    "        self.nc = Node('c')\n",
    "        self.g.add_node(self.na)\n",
    "        self.g.add_node(self.nb)\n",
    "        self.g.add_node(self.nc)\n",
    "        self.e1 = WeightedEdge(self.na, self.nb, 15, 10)\n",
    "        self.e2 = WeightedEdge(self.na, self.nc, 14, 6)\n",
    "        self.e3 = WeightedEdge(self.nb, self.nc, 3, 1)\n",
    "        self.g.add_edge(self.e1)\n",
    "        self.g.add_edge(self.e2)\n",
    "        self.g.add_edge(self.e3)\n",
    "\n",
    "    def test_weighted_edge_str(self):\n",
    "        self.assertEqual(str(self.e1), \"a->b (15, 10)\")\n",
    "        self.assertEqual(str(self.e2), \"a->c (14, 6)\")\n",
    "        self.assertEqual(str(self.e3), \"b->c (3, 1)\")\n",
    "\n",
    "    def test_weighted_edge_total_distance(self):\n",
    "        self.assertEqual(self.e1.get_total_distance(), 15)\n",
    "        self.assertEqual(self.e2.get_total_distance(), 14)\n",
    "        self.assertEqual(self.e3.get_total_distance(), 3)\n",
    "\n",
    "    def test_weighted_edge_outdoor_distance(self):\n",
    "        self.assertEqual(self.e1.get_outdoor_distance(), 10)\n",
    "        self.assertEqual(self.e2.get_outdoor_distance(), 6)\n",
    "        self.assertEqual(self.e3.get_outdoor_distance(), 1)\n",
    "\n",
    "    def test_add_edge_to_nonexistent_node_raises(self):\n",
    "        node_not_in_graph = Node('q')\n",
    "        no_src = WeightedEdge(self.nb, node_not_in_graph, 5, 5)\n",
    "        no_dest = WeightedEdge(node_not_in_graph, self.na, 5, 5)\n",
    "\n",
    "        with self.assertRaises(ValueError):\n",
    "            self.g.add_edge(no_src)\n",
    "        with self.assertRaises(ValueError):\n",
    "            self.g.add_edge(no_dest)\n",
    "\n",
    "    def test_add_existing_node_raises(self):\n",
    "        with self.assertRaises(ValueError):\n",
    "            self.g.add_node(self.na)\n",
    "\n",
    "    def test_graph_str(self):\n",
    "        expected = \"a->b (15, 10)\\na->c (14, 6)\\nb->c (3, 1)\"\n",
    "        self.assertEqual(str(self.g), expected)\n",
    "\n",
    "\n"
   ]
  },
  {
   "cell_type": "code",
   "execution_count": 28,
   "id": "9af5851f",
   "metadata": {},
   "outputs": [],
   "source": [
    "\n",
    "def load_map(map_filename):\n",
    "    print(\"Loading map from file...\")\n",
    "    entry_all = []\n",
    "    with open(map_filename,'r') as f:\n",
    "        for line in f:\n",
    "            entry = line.strip('\\n').split(' ')\n",
    "            entry_all.append(entry)\n",
    "\n",
    "    graph = Digraph()\n",
    "    for entry in entry_all:\n",
    "        src = Node(str(entry[0]))\n",
    "        dest = Node(str(entry[1]))\n",
    "        if not graph.has_node(src):\n",
    "            graph.add_node(src)\n",
    "        if not graph.has_node(dest):\n",
    "            graph.add_node(dest)\n",
    "        edge = WeightedEdge(src, dest, int(entry[2]), int(entry[3]))\n",
    "        graph.add_edge(edge)\n",
    "    \n",
    "    return graph"
   ]
  },
  {
   "cell_type": "code",
   "execution_count": 42,
   "id": "79de57f1",
   "metadata": {},
   "outputs": [
    {
     "name": "stdout",
     "output_type": "stream",
     "text": [
      "Loading map from file...\n"
     ]
    }
   ],
   "source": [
    "graph = load_map(\"./PS2/mit_map.txt\")"
   ]
  },
  {
   "cell_type": "code",
   "execution_count": 43,
   "id": "9bdab160",
   "metadata": {},
   "outputs": [
    {
     "name": "stdout",
     "output_type": "stream",
     "text": [
      "1->2 (75, 60)\n",
      "1->3 (36, 0)\n",
      "1->4 (80, 65)\n",
      "1->5 (32, 0)\n",
      "10->13 (30, 0)\n",
      "10->2 (70, 50)\n",
      "10->3 (32, 0)\n",
      "10->4 (47, 0)\n",
      "12->24 (33, 0)\n",
      "12->26 (30, 25)\n",
      "12->32 (100, 80)\n",
      "12->4 (56, 0)\n",
      "13->10 (30, 0)\n",
      "13->24 (35, 30)\n",
      "13->31 (30, 25)\n",
      "13->39 (70, 50)\n",
      "13->9 (40, 0)\n",
      "14->2 (51, 0)\n",
      "14->50 (25, 20)\n",
      "14->50 (50, 23)\n",
      "16->26 (45, 0)\n",
      "16->32 (100, 50)\n",
      "16->56 (30, 0)\n",
      "16->8 (25, 0)\n",
      "18->54 (20, 10)\n",
      "18->56 (35, 0)\n",
      "2->1 (75, 60)\n",
      "2->10 (70, 50)\n",
      "2->14 (51, 0)\n",
      "2->3 (70, 50)\n",
      "2->4 (36, 0)\n",
      "2->6 (41, 0)\n",
      "24->12 (33, 0)\n",
      "24->13 (35, 30)\n",
      "24->26 (25, 20)\n",
      "24->34 (27, 0)\n",
      "26->12 (30, 25)\n",
      "26->16 (45, 0)\n",
      "26->24 (25, 20)\n",
      "26->36 (34, 0)\n",
      "3->1 (36, 0)\n",
      "3->10 (32, 0)\n",
      "3->2 (70, 50)\n",
      "3->4 (60, 50)\n",
      "3->7 (25, 0)\n",
      "31->13 (30, 25)\n",
      "31->37 (27, 0)\n",
      "32->12 (100, 80)\n",
      "32->16 (100, 50)\n",
      "32->36 (70, 0)\n",
      "32->46 (90, 40)\n",
      "32->48 (80, 50)\n",
      "32->56 (80, 70)\n",
      "32->57 (30, 0)\n",
      "32->66 (70, 60)\n",
      "32->68 (110, 80)\n",
      "32->76 (80, 50)\n",
      "33->35 (25, 0)\n",
      "33->9 (29, 0)\n",
      "34->24 (27, 0)\n",
      "34->36 (25, 0)\n",
      "34->38 (25, 0)\n",
      "35->33 (25, 0)\n",
      "35->37 (29, 0)\n",
      "36->26 (34, 0)\n",
      "36->32 (70, 0)\n",
      "36->34 (25, 0)\n",
      "36->46 (80, 40)\n",
      "36->48 (100, 80)\n",
      "37->31 (27, 0)\n",
      "37->35 (29, 0)\n",
      "37->39 (32, 0)\n",
      "38->34 (25, 0)\n",
      "38->39 (34, 0)\n",
      "39->13 (70, 50)\n",
      "39->37 (32, 0)\n",
      "4->1 (80, 65)\n",
      "4->10 (47, 0)\n",
      "4->12 (56, 0)\n",
      "4->2 (36, 0)\n",
      "4->3 (60, 50)\n",
      "4->8 (47, 0)\n",
      "46->32 (90, 40)\n",
      "46->36 (80, 40)\n",
      "46->48 (25, 10)\n",
      "48->32 (80, 50)\n",
      "48->36 (100, 80)\n",
      "48->46 (25, 10)\n",
      "5->1 (32, 0)\n",
      "5->7 (20, 0)\n",
      "50->14 (25, 20)\n",
      "50->14 (50, 23)\n",
      "54->14 (70, 60)\n",
      "54->18 (20, 10)\n",
      "54->50 (80, 70)\n",
      "54->56 (40, 30)\n",
      "54->62 (20, 10)\n",
      "54->66 (45, 35)\n",
      "56->16 (30, 0)\n",
      "56->18 (35, 0)\n",
      "56->32 (80, 70)\n",
      "56->66 (40, 0)\n",
      "56->68 (80, 70)\n",
      "57->32 (30, 0)\n",
      "6->2 (41, 0)\n",
      "6->8 (39, 0)\n",
      "62->54 (20, 10)\n",
      "62->64 (30, 20)\n",
      "64->62 (30, 20)\n",
      "66->32 (70, 60)\n",
      "66->56 (40, 0)\n",
      "66->68 (51, 0)\n",
      "66->76 (130, 100)\n",
      "68->32 (110, 80)\n",
      "68->56 (80, 70)\n",
      "68->66 (51, 0)\n",
      "68->76 (72, 30)\n",
      "7->3 (25, 0)\n",
      "7->5 (20, 0)\n",
      "7->9 (20, 0)\n",
      "76->32 (80, 50)\n",
      "76->66 (130, 100)\n",
      "76->68 (72, 30)\n",
      "8->16 (25, 0)\n",
      "8->4 (47, 0)\n",
      "8->6 (39, 0)\n",
      "9->13 (40, 0)\n",
      "9->33 (29, 0)\n",
      "9->7 (20, 0)\n"
     ]
    }
   ],
   "source": [
    "print(graph)"
   ]
  },
  {
   "cell_type": "code",
   "execution_count": null,
   "id": "05aa0a99",
   "metadata": {},
   "outputs": [],
   "source": []
  }
 ],
 "metadata": {
  "kernelspec": {
   "display_name": "Python 3 (ipykernel)",
   "language": "python",
   "name": "python3"
  },
  "language_info": {
   "codemirror_mode": {
    "name": "ipython",
    "version": 3
   },
   "file_extension": ".py",
   "mimetype": "text/x-python",
   "name": "python",
   "nbconvert_exporter": "python",
   "pygments_lexer": "ipython3",
   "version": "3.8.10"
  }
 },
 "nbformat": 4,
 "nbformat_minor": 5
}
